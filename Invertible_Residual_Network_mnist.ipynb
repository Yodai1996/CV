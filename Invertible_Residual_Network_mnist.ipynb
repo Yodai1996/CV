{
  "nbformat": 4,
  "nbformat_minor": 0,
  "metadata": {
    "colab": {
      "name": "Invertible Residual Network.ipynb",
      "provenance": [],
      "collapsed_sections": [],
      "include_colab_link": true
    },
    "kernelspec": {
      "name": "python3",
      "display_name": "Python 3"
    },
    "accelerator": "GPU"
  },
  "cells": [
    {
      "cell_type": "markdown",
      "metadata": {
        "id": "view-in-github",
        "colab_type": "text"
      },
      "source": [
        "<a href=\"https://colab.research.google.com/github/Yodai1996/CV/blob/master/Invertible_Residual_Network_mnist.ipynb\" target=\"_parent\"><img src=\"https://colab.research.google.com/assets/colab-badge.svg\" alt=\"Open In Colab\"/></a>"
      ]
    },
    {
      "cell_type": "code",
      "metadata": {
        "id": "XlY8LD47dXVX",
        "colab_type": "code",
        "colab": {}
      },
      "source": [
        "import matplotlib.pyplot as plt\n",
        "import numpy as np\n",
        "import csv\n",
        "import torch\n",
        "from torch import nn\n",
        "from torch import optim\n",
        "import torchvision\n",
        "import torchvision.transforms as transforms\n",
        "import torch.nn.functional as F\n",
        "from torch.autograd import Variable\n",
        "import torch.distributions as distributions"
      ],
      "execution_count": 0,
      "outputs": []
    },
    {
      "cell_type": "code",
      "metadata": {
        "id": "ft9vO30QdtL5",
        "colab_type": "code",
        "outputId": "757adcd6-71f3-435c-c22c-542036fe9084",
        "colab": {
          "base_uri": "https://localhost:8080/",
          "height": 122
        }
      },
      "source": [
        "!pip install torch torchvision\n",
        "\n",
        "import torch\n",
        "torch.cuda.is_available()\n",
        "\n",
        "device = torch.device('cuda' if torch.cuda.is_available() else 'cpu')"
      ],
      "execution_count": 88,
      "outputs": [
        {
          "output_type": "stream",
          "text": [
            "Requirement already satisfied: torch in /usr/local/lib/python3.6/dist-packages (1.2.0)\n",
            "Requirement already satisfied: torchvision in /usr/local/lib/python3.6/dist-packages (0.4.0)\n",
            "Requirement already satisfied: numpy in /usr/local/lib/python3.6/dist-packages (from torch) (1.16.5)\n",
            "Requirement already satisfied: pillow>=4.1.1 in /usr/local/lib/python3.6/dist-packages (from torchvision) (4.3.0)\n",
            "Requirement already satisfied: six in /usr/local/lib/python3.6/dist-packages (from torchvision) (1.12.0)\n",
            "Requirement already satisfied: olefile in /usr/local/lib/python3.6/dist-packages (from pillow>=4.1.1->torchvision) (0.46)\n"
          ],
          "name": "stdout"
        }
      ]
    },
    {
      "cell_type": "markdown",
      "metadata": {
        "id": "SPscsAZed7tx",
        "colab_type": "text"
      },
      "source": [
        "input and output\n",
        "\n",
        "Fashion mnistの前にとりあえずmnistで実験してみる。\n"
      ]
    },
    {
      "cell_type": "code",
      "metadata": {
        "id": "fnIHQqPBdyxz",
        "colab_type": "code",
        "colab": {}
      },
      "source": [
        "FILE_NAME  = \"./sample_data/mnist_train_small.csv\"\n",
        "FILE_NAME2 = \"./sample_data/mnist_test.csv\"\n",
        "\n",
        "num_epoch = 2"
      ],
      "execution_count": 0,
      "outputs": []
    },
    {
      "cell_type": "code",
      "metadata": {
        "id": "xWPeVwmJfbTr",
        "colab_type": "code",
        "outputId": "43f5d9c4-5bde-4704-a717-e6a8e4b67970",
        "colab": {
          "base_uri": "https://localhost:8080/",
          "height": 34
        }
      },
      "source": [
        "labels = []    #今回これは特に使わないが。\n",
        "data   = []\n",
        "\n",
        "#[0,255]の1bit整数型のままで。floatにキャストする必要はあるかも？\n",
        "with open(FILE_NAME) as f:\n",
        "  reader = csv.reader(f)\n",
        "  for row in reader:\n",
        "    labels.append(float(row[0]))\n",
        "    data.append([float(elem) for elem in row[1:]])\n",
        "\n",
        "#data整形    \n",
        "data = np.array(data)\n",
        "size = data.shape[0]\n",
        "data = data.reshape([size, 28, 28])  #reshapeしてモデル立てる必要ありそう。\n",
        "data.shape  "
      ],
      "execution_count": 90,
      "outputs": [
        {
          "output_type": "execute_result",
          "data": {
            "text/plain": [
              "(20000, 28, 28)"
            ]
          },
          "metadata": {
            "tags": []
          },
          "execution_count": 90
        }
      ]
    },
    {
      "cell_type": "code",
      "metadata": {
        "id": "2ftZVvNGmluk",
        "colab_type": "code",
        "outputId": "a8094672-120b-496f-bdc1-faaabe608d97",
        "colab": {
          "base_uri": "https://localhost:8080/",
          "height": 269
        }
      },
      "source": [
        "fig, ax = plt.subplots()\n",
        "ax.imshow(data[-4], cmap=\"gray\")\n",
        "plt.show()"
      ],
      "execution_count": 91,
      "outputs": [
        {
          "output_type": "display_data",
          "data": {
            "image/png": "[encoded data removed]",
            "text/plain": [
              "<Figure size 432x288 with 1 Axes>"
            ]
          },
          "metadata": {
            "tags": []
          }
        }
      ]
    },
    {
      "cell_type": "markdown",
      "metadata": {
        "id": "unIMV6BHnf9T",
        "colab_type": "text"
      },
      "source": [
        "define a model of Invertible Residual Network\n",
        "\n",
        "必要があれば、dataloaderやmini-batch処理を実装する。👈必要ありそう（一気にはメモリにのらない）"
      ]
    },
    {
      "cell_type": "code",
      "metadata": {
        "id": "ZGLkyNMZlHE5",
        "colab_type": "code",
        "colab": {}
      },
      "source": [
        "#define a model of i-Resnet\n",
        "#quite simple version, for just trying\n",
        "#とりあえずリプシッツ定数の話はガン無視。\n",
        "#actnorm is not used. I used relu instead of elu\n",
        "\n",
        "class I_RESNET(nn.Module):\n",
        "  \n",
        "  def __init__(self):\n",
        "    super(I_RESNET, self).__init__()\n",
        "    self.conv1 = nn.Conv2d(1, 32, kernel_size=1, stride=1, padding=0) #Noneはchainer仕様故使えない。\n",
        "    self.conv2 = nn.Conv2d(32, 32, kernel_size=3, stride=1, padding=1)    \n",
        "    self.conv3 = nn.Conv2d(32, 32, kernel_size=1, stride=1, padding=0)    \n",
        "\n",
        "    #さすがに3層だけではしょぼいかと思い、追加してみた。\n",
        "    #全体的なResidual Networkの構造はやや変えてある。\n",
        "    self.conv4 = nn.Conv2d(32, 32, kernel_size=1, stride=1, padding=0)\n",
        "    self.conv5 = nn.Conv2d(32, 32, kernel_size=3, stride=1, padding=1)    \n",
        "    self.conv6 = nn.Conv2d(32, 1, kernel_size=1, stride=1, padding=0)     #channelを入力時のと同じにする。   \n",
        "    \n",
        "  def forward(self, x_in):\n",
        "    x = F.relu(self.conv1(x_in))\n",
        "    x = F.relu(self.conv2(x))\n",
        "    x = F.relu(self.conv3(x))\n",
        "    x = F.relu(self.conv4(x))\n",
        "    x = F.relu(self.conv5(x))\n",
        "    x = self.conv6(x)\n",
        "    z = x + x_in #residual\n",
        "    \n",
        "    #とりあえずlogdetの計算部分はガン無視。（126行目に対応）\n",
        "    #いや、それがないとlossの計算ができないので必要。(actnormは無視している。)👈嘘。\n",
        "    #リップシツがないので本当は絶対値外せない。それがどう影響するか。\n",
        "    return z\n",
        "  \n",
        "  def inverse(self, z, maxIter=1):\n",
        "    x_in = z\n",
        "    for iter_index in range(maxIter):\n",
        "      #bottleneck_block部分。また同じの書くのダサいが。\n",
        "      #方程式の解を求めるのに、反復法を回す。いま、invertibleとは限らないのがどう影響するか。\n",
        "      x = F.relu(self.conv1(x_in))\n",
        "      x = F.relu(self.conv2(x))\n",
        "      x = F.relu(self.conv3(x))\n",
        "      x = F.relu(self.conv4(x))\n",
        "      x = F.relu(self.conv5(x))\n",
        "      summand = self.conv6(x) \n",
        "      \n",
        "      x_in = z - summand\n",
        "     \n",
        "    return x_in"
      ],
      "execution_count": 0,
      "outputs": []
    },
    {
      "cell_type": "code",
      "metadata": {
        "id": "Z0oAZirw_L7Q",
        "colab_type": "code",
        "colab": {}
      },
      "source": [
        ""
      ],
      "execution_count": 0,
      "outputs": []
    },
    {
      "cell_type": "markdown",
      "metadata": {
        "id": "e9WXjBJ8Zmxa",
        "colab_type": "text"
      },
      "source": [
        "ソースコード、trainはどこでやってる\n",
        "\n",
        "（すでに学習済みのモデルを使ってる？？）\n",
        "\n",
        "---\n",
        "\n"
      ]
    },
    {
      "cell_type": "code",
      "metadata": {
        "id": "ya-uhk8pCvKf",
        "colab_type": "code",
        "colab": {}
      },
      "source": [
        "dim = 28*28 #これで合ってるのか？わからん。\n",
        "\n",
        "prior_mu     = nn.Parameter(torch.zeros((dim,)).float(), requires_grad=True) #Trueにしたい。\n",
        "prior_logstd = nn.Parameter(torch.zeros((dim,)).float(), requires_grad=True)\n",
        "\n",
        "\n",
        "#prior_mu     = torch.zeros((dim,)).float()\n",
        "#prior_logstd = torch.zeros((dim,)).float()\n",
        "\n",
        "def logpz(z):\n",
        "  prior = distributions.Normal(prior_mu, torch.exp(prior_logstd))\n",
        "  return prior.log_prob(z.reshape(z.shape[0], -1)).sum(dim=1)\n",
        "\n",
        "#これは何？\n",
        "def bits_per_dim(logpx, inputs):\n",
        "  return -logpx / float(np.log(2.) * np.prod(inputs.shape[1:])) + 8."
      ],
      "execution_count": 0,
      "outputs": []
    },
    {
      "cell_type": "code",
      "metadata": {
        "id": "K-7IYRcAJB7x",
        "colab_type": "code",
        "colab": {}
      },
      "source": [
        "#inputs\n",
        "x = data.reshape([size, 1, 28, 28])  #1 means only one channel. requires_grad=True\n",
        "#x = torch.tensor(x, dtype=torch.float, device=device)\n",
        "\n",
        "#data_loader\n",
        "trainloader = torch.utils.data.DataLoader(x, batch_size=128, shuffle=True, num_workers=1)"
      ],
      "execution_count": 0,
      "outputs": []
    },
    {
      "cell_type": "code",
      "metadata": {
        "id": "4MbU-fxsRLxx",
        "colab_type": "code",
        "outputId": "9a46c0b7-74bb-45ca-c84f-a929d360584b",
        "colab": {
          "base_uri": "https://localhost:8080/",
          "height": 107
        }
      },
      "source": [
        "#training of the model\n",
        "model = I_RESNET().to(device)\n",
        "optimizer = optim.Adam(model.parameters(), lr=0.01)\n",
        "model.train()\n",
        "\n",
        "\n",
        "losses = []\n",
        "for i in range(num_epoch):\n",
        "  temp_loss = 0\n",
        "  for batch_id, inputs in enumerate(trainloader):\n",
        "    inputs = torch.tensor(inputs, dtype=torch.float, device=device)\n",
        "    z = model(inputs)\n",
        "    \n",
        "    z = z.cpu().detach() #.numpy()\n",
        "    logpx = logpz(z) #logdetはとりま無視。\n",
        "    loss  = bits_per_dim(logpx, inputs).mean()\n",
        "    \n",
        "    \n",
        "    temp_loss += loss\n",
        "    loss.backward()\n",
        "    optimizer.step()\n",
        "    \n",
        "  losses.append(loss.cpu().detach().numpy())\n",
        "  print(\"EPOCH: {} loss: {}\".format(i, loss)) "
      ],
      "execution_count": 95,
      "outputs": [
        {
          "output_type": "stream",
          "text": [
            "/usr/local/lib/python3.6/dist-packages/ipykernel_launcher.py:10: UserWarning: To copy construct from a tensor, it is recommended to use sourceTensor.clone().detach() or sourceTensor.clone().detach().requires_grad_(True), rather than torch.tensor(sourceTensor).\n",
            "  # Remove the CWD from sys.path while we load stuff.\n"
          ],
          "name": "stderr"
        },
        {
          "output_type": "stream",
          "text": [
            "EPOCH: 0 loss: 4689.0126953125\n",
            "EPOCH: 1 loss: 4707.591796875\n"
          ],
          "name": "stdout"
        }
      ]
    },
    {
      "cell_type": "code",
      "metadata": {
        "id": "_tm9EUKOOKXw",
        "colab_type": "code",
        "outputId": "6f8a9b4d-ce90-46c7-b9f5-777816b5358b",
        "colab": {
          "base_uri": "https://localhost:8080/",
          "height": 1000
        }
      },
      "source": [
        "diff = lambda x,y : np.sum(abs((x-y)))\n",
        "\n",
        "#samplingしたい。とりま10個。\n",
        "n = 10\n",
        "\n",
        "x_in = x[:n]\n",
        "inputs = torch.tensor(x_in, dtype=torch.float, device=device)\n",
        "z = model(inputs)\n",
        "x_reconstruct = model.inverse(z)\n",
        "x_reconstruct = x_reconstruct.cpu().detach().numpy()\n",
        "\n",
        "x_in  = x_in.reshape([n,28,28])\n",
        "x_out = x_reconstruct.reshape([n,28,28])\n",
        "  \n",
        "for i in range(n):  \n",
        "  fig, axes = plt.subplots(1, 2)\n",
        "  axes[0].set_axis_off()\n",
        "  axes[0].imshow(x_in[i], cmap=\"gray\")\n",
        "\n",
        "  axes[1].set_axis_off()\n",
        "  axes[1].imshow(x_out[i], cmap=\"gray\")\n",
        "\n",
        "  plt.show()\n",
        "  \n",
        "  print(diff(x_in[i], x_out[i])) \n",
        "  "
      ],
      "execution_count": 96,
      "outputs": [
        {
          "output_type": "display_data",
          "data": {
            "image/png": "[encoded data removed]",
            "text/plain": [
              "<Figure size 432x288 with 2 Axes>"
            ]
          },
          "metadata": {
            "tags": []
          }
        },
        {
          "output_type": "stream",
          "text": [
            "23.521472044289112\n"
          ],
          "name": "stdout"
        },
        {
          "output_type": "display_data",
          "data": {
            "image/png": "[encoded data removed]",
            "text/plain": [
              "<Figure size 432x288 with 2 Axes>"
            ]
          },
          "metadata": {
            "tags": []
          }
        },
        {
          "output_type": "stream",
          "text": [
            "19.43570353090763\n"
          ],
          "name": "stdout"
        },
        {
          "output_type": "display_data",
          "data": {
            "image/png": "[encoded data removed]",
            "text/plain": [
              "<Figure size 432x288 with 2 Axes>"
            ]
          },
          "metadata": {
            "tags": []
          }
        },
        {
          "output_type": "stream",
          "text": [
            "20.41596795618534\n"
          ],
          "name": "stdout"
        },
        {
          "output_type": "display_data",
          "data": {
            "image/png": "[encoded data removed]",
            "text/plain": [
              "<Figure size 432x288 with 2 Axes>"
            ]
          },
          "metadata": {
            "tags": []
          }
        },
        {
          "output_type": "stream",
          "text": [
            "20.484547425061464\n"
          ],
          "name": "stdout"
        },
        {
          "output_type": "display_data",
          "data": {
            "image/png": "[encoded data removed]",
            "text/plain": [
              "<Figure size 432x288 with 2 Axes>"
            ]
          },
          "metadata": {
            "tags": []
          }
        },
        {
          "output_type": "stream",
          "text": [
            "20.074021734297276\n"
          ],
          "name": "stdout"
        },
        {
          "output_type": "display_data",
          "data": {
            "image/png": "[encoded data removed]",
            "text/plain": [
              "<Figure size 432x288 with 2 Axes>"
            ]
          },
          "metadata": {
            "tags": []
          }
        },
        {
          "output_type": "stream",
          "text": [
            "22.2943418584764\n"
          ],
          "name": "stdout"
        },
        {
          "output_type": "display_data",
          "data": {
            "image/png": "[encoded data removed]",
            "text/plain": [
              "<Figure size 432x288 with 2 Axes>"
            ]
          },
          "metadata": {
            "tags": []
          }
        },
        {
          "output_type": "stream",
          "text": [
            "27.908267721533775\n"
          ],
          "name": "stdout"
        },
        {
          "output_type": "display_data",
          "data": {
            "image/png": "[encoded data removed]",
            "text/plain": [
              "<Figure size 432x288 with 2 Axes>"
            ]
          },
          "metadata": {
            "tags": []
          }
        },
        {
          "output_type": "stream",
          "text": [
            "13.201960545033216\n"
          ],
          "name": "stdout"
        },
        {
          "output_type": "display_data",
          "data": {
            "image/png": "[encoded data removed]",
            "text/plain": [
              "<Figure size 432x288 with 2 Axes>"
            ]
          },
          "metadata": {
            "tags": []
          }
        },
        {
          "output_type": "stream",
          "text": [
            "24.82734364271164\n"
          ],
          "name": "stdout"
        },
        {
          "output_type": "display_data",
          "data": {
            "image/png": "[encoded data removed]",
            "text/plain": [
              "<Figure size 432x288 with 2 Axes>"
            ]
          },
          "metadata": {
            "tags": []
          }
        },
        {
          "output_type": "stream",
          "text": [
            "22.756109096109867\n"
          ],
          "name": "stdout"
        }
      ]
    },
    {
      "cell_type": "code",
      "metadata": {
        "id": "pv9RbhEjUrqX",
        "colab_type": "code",
        "colab": {}
      },
      "source": [
        ""
      ],
      "execution_count": 0,
      "outputs": []
    },
    {
      "cell_type": "code",
      "metadata": {
        "id": "vwGs29mjUrmb",
        "colab_type": "code",
        "colab": {}
      },
      "source": [
        ""
      ],
      "execution_count": 0,
      "outputs": []
    },
    {
      "cell_type": "code",
      "metadata": {
        "id": "-bGTF1AfUrk6",
        "colab_type": "code",
        "colab": {}
      },
      "source": [
        ""
      ],
      "execution_count": 0,
      "outputs": []
    },
    {
      "cell_type": "code",
      "metadata": {
        "id": "D0Ijo8-p-ApV",
        "colab_type": "code",
        "colab": {
          "base_uri": "https://localhost:8080/",
          "height": 90
        },
        "outputId": "dc823fd9-9e98-4b27-c938-cf0b26da81ae"
      },
      "source": [
        "temp_loss = 0\n",
        "for batch_id, inputs in enumerate(trainloader):\n",
        "  inputs = torch.tensor(inputs, dtype=torch.float, device=device)\n",
        "  z = model(inputs)\n",
        "\n",
        "  z = z.cpu().detach() #.numpy()\n",
        "  logpx = logpz(z) #logdetはとりま無視。\n",
        "  loss  = bits_per_dim(logpx, inputs).mean()\n",
        "\n",
        "\n",
        "  temp_loss += loss\n",
        "  loss.backward()\n",
        "  optimizer.step()\n",
        "\n",
        "losses.append(loss.cpu().detach().numpy())\n",
        "print(\"EPOCH: {} loss: {}\".format(i, loss)) "
      ],
      "execution_count": 97,
      "outputs": [
        {
          "output_type": "stream",
          "text": [
            "/usr/local/lib/python3.6/dist-packages/ipykernel_launcher.py:3: UserWarning: To copy construct from a tensor, it is recommended to use sourceTensor.clone().detach() or sourceTensor.clone().detach().requires_grad_(True), rather than torch.tensor(sourceTensor).\n",
            "  This is separate from the ipykernel package so we can avoid doing imports until\n"
          ],
          "name": "stderr"
        },
        {
          "output_type": "stream",
          "text": [
            "EPOCH: 9 loss: 5323.9111328125\n"
          ],
          "name": "stdout"
        }
      ]
    },
    {
      "cell_type": "code",
      "metadata": {
        "id": "shqX2ZdINO2l",
        "colab_type": "code",
        "colab": {}
      },
      "source": [
        ""
      ],
      "execution_count": 0,
      "outputs": []
    },
    {
      "cell_type": "code",
      "metadata": {
        "id": "xC_HVAjfNO0r",
        "colab_type": "code",
        "colab": {}
      },
      "source": [
        ""
      ],
      "execution_count": 0,
      "outputs": []
    },
    {
      "cell_type": "code",
      "metadata": {
        "id": "pz9JBQ_h6htH",
        "colab_type": "code",
        "colab": {}
      },
      "source": [
        "trainloader = torch.utils.data.DataLoader(trainset, batch_size=128, shuffle=True, num_workers=4)\n",
        "testloader  = torch.utils.data.DataLoader(testset, batch_size=128, shuffle=False, num_workers=4)\n",
        "\n",
        "for batch_id, inputs\n"
      ],
      "execution_count": 0,
      "outputs": []
    },
    {
      "cell_type": "code",
      "metadata": {
        "id": "a9S1lxvlRL0k",
        "colab_type": "code",
        "colab": {}
      },
      "source": [
        "#reconstruct_loss\n",
        "diff = lambda x,y : (x-y).abs().sum()\n",
        "\n",
        "#inputs\n",
        "x = data.reshape([size, 1, 28, 28])  #1 means only one channel. requires_grad=True\n",
        "x = torch.tensor(x, dtype=torch.float, device=device) # instead of new_\n",
        "model = I_RESNET().to(device)\n",
        "z = model(x)\n",
        "for i in range(10):\n",
        "  x_reconstruct = model.inverse(z, maxIter=i)\n",
        "  print(i, diff(x, x_reconstruct))   #iter回すほど結果が良くなるはず。\n",
        "  \n",
        "\n",
        "\n"
      ],
      "execution_count": 0,
      "outputs": []
    },
    {
      "cell_type": "code",
      "metadata": {
        "id": "XUbfi1VvnZzq",
        "colab_type": "code",
        "colab": {}
      },
      "source": [
        ""
      ],
      "execution_count": 0,
      "outputs": []
    },
    {
      "cell_type": "code",
      "metadata": {
        "id": "PeAhh1e2nZ5J",
        "colab_type": "code",
        "colab": {}
      },
      "source": [
        ""
      ],
      "execution_count": 0,
      "outputs": []
    },
    {
      "cell_type": "code",
      "metadata": {
        "id": "HhKT_tsZnZ-8",
        "colab_type": "code",
        "colab": {}
      },
      "source": [
        "#define a model of VAE\n",
        "class VAE(nn.Module):\n",
        "  \n",
        "  def __init__(self, dim=500 ,latent_dim=20):\n",
        "    super(VAE, self).__init__()    \n",
        "    self.en_dense1 = nn.Linear(28*28, dim)\n",
        "    self.en_dense2 = nn.Linear(dim, dim)\n",
        "    self.mean   = nn.Linear(dim, latent_dim)\n",
        "    self.var    = nn.Linear(dim, latent_dim)    \n",
        "    self.de_dense1 = nn.Linear(latent_dim, dim)\n",
        "    self.de_dense2 = nn.Linear(dim, dim)\n",
        "    self.de_dense3 = nn.Linear(dim, 28*28)\n",
        "    \n",
        "  def _encoder(self, x):\n",
        "    x    = F.relu(self.en_dense1(x))\n",
        "    x    = F.relu(self.en_dense2(x))\n",
        "    mean = self.mean(x)\n",
        "    var  = F.softplus(self.var(x)) #variance should be always non-negative\n",
        "    return mean, var  \n",
        "  \n",
        "  def _hidden_sampling(self, mean, var): #無相関と仮定\n",
        "    eps = torch.randn(mean.shape).to(device)\n",
        "    return mean + torch.sqrt(var)*eps\n",
        "  \n",
        "  def _decoder(self, z):\n",
        "    x = F.relu(self.de_dense1(z))\n",
        "    x = F.relu(self.de_dense2(x))    \n",
        "    x = F.relu(self.de_dense3(x))    \n",
        "    x = F.sigmoid(x)  #limit the output in [0,1]\n",
        "    return x    \n",
        "  \n",
        "  \n",
        "  def forward(self, x): \n",
        "    mean, var = self._encoder(x)\n",
        "    z = self._hidden_sampling(mean, var)\n",
        "    y = self._decoder(z)\n",
        "    return y, z\n",
        "  \n",
        "  \n",
        "  def loss(self, x): \n",
        "    mean, var = self._encoder(x)\n",
        "    kl = -0.5 *  torch.mean(torch.sum(1+torch.log(var) - mean**2 - var)) #無相関ver\n",
        "    z  = self._hidden_sampling(mean, var)\n",
        "    y  = self._decoder(z)\n",
        "    reconstruct = torch.mean(torch.sum(x * torch.log(y) + (1-x) * torch.log(1-y)))     #y is [0,1] so non-negative, so log make sense. \n",
        "    return -(reconstruct - kl) "
      ],
      "execution_count": 0,
      "outputs": []
    }
  ]
}