{
  "nbformat": 4,
  "nbformat_minor": 0,
  "metadata": {
    "colab": {
      "name": "Supervised_Segmentation.ipynb",
      "version": "0.3.2",
      "provenance": [],
      "collapsed_sections": []
    },
    "language_info": {
      "codemirror_mode": {
        "name": "ipython",
        "version": 3
      },
      "file_extension": ".py",
      "mimetype": "text/x-python",
      "name": "python",
      "nbconvert_exporter": "python",
      "pygments_lexer": "ipython3",
      "version": "3.5.1"
    },
    "kernelspec": {
      "display_name": "Python [Root]",
      "language": "python",
      "name": "Python [Root]"
    },
    "accelerator": "GPU"
  },
  "cells": [
    {
      "cell_type": "markdown",
      "metadata": {
        "colab_type": "text",
        "id": "fHUR21aybHGy"
      },
      "source": [
        "<h2>Semantic Segmentation　（教師付きセグメンテーション）</h2>\n",
        "\n",
        " →入力画像の各ピクセルに対して適切なラべル付けを行う\n",
        "\n",
        "\n",
        "<h3>使うデータセット</h3>\n",
        "・心臓のMRI画像と，対応するラベル付け\n",
        "\n",
        "\n",
        "・いずれも256*256画素。\n",
        "\n",
        "\n",
        "・前者は0~255のint型(グレースケール)，後者は0 or 1の2値ラベル\n",
        "\n",
        "\n",
        "・データ数は合計282個。訓練データ256, テストデータ26で以下の実験をした。"
      ]
    },
    {
      "cell_type": "code",
      "metadata": {
        "colab_type": "code",
        "id": "zwQKlP8qacub",
        "outputId": "fac6d132-a02e-4182-f73b-461c508b91db",
        "colab": {
          "base_uri": "https://localhost:8080/",
          "height": 646
        }
      },
      "source": [
        "!curl https://colab.chainer.org/install | sh -\n",
        "!apt-get install -y graphviz\n",
        "!python -c 'import chainer; chainer.print_runtime_info()'"
      ],
      "execution_count": 0,
      "outputs": [
        {
          "output_type": "stream",
          "text": [
            "  % Total    % Received % Xferd  Average Speed   Time    Time     Time  Current\n",
            "                                 Dload  Upload   Total   Spent    Left  Speed\n",
            "\r  0     0    0     0    0     0      0      0 --:--:-- --:--:-- --:--:--     0\r100  1580  100  1580    0     0  21351      0 --:--:-- --:--:-- --:--:-- 21351\n",
            "+ apt -y -q install cuda-libraries-dev-10-0\n",
            "Reading package lists...\n",
            "Building dependency tree...\n",
            "Reading state information...\n",
            "cuda-libraries-dev-10-0 is already the newest version (10.0.130-1).\n",
            "The following package was automatically installed and is no longer required:\n",
            "  libnvidia-common-410\n",
            "Use 'apt autoremove' to remove it.\n",
            "0 upgraded, 0 newly installed, 0 to remove and 11 not upgraded.\n",
            "+ pip install -q cupy-cuda100  chainer \n",
            "+ set +ex\n",
            "Installation succeeded!\n",
            "Reading package lists... Done\n",
            "Building dependency tree       \n",
            "Reading state information... Done\n",
            "graphviz is already the newest version (2.40.1-2).\n",
            "The following package was automatically installed and is no longer required:\n",
            "  libnvidia-common-410\n",
            "Use 'apt autoremove' to remove it.\n",
            "0 upgraded, 0 newly installed, 0 to remove and 11 not upgraded.\n",
            "Platform: Linux-4.14.79+-x86_64-with-Ubuntu-18.04-bionic\n",
            "Chainer: 5.4.0\n",
            "NumPy: 1.16.3\n",
            "CuPy:\n",
            "  CuPy Version          : 5.4.0\n",
            "  CUDA Root             : /usr/local/cuda\n",
            "  CUDA Build Version    : 10000\n",
            "  CUDA Driver Version   : 10000\n",
            "  CUDA Runtime Version  : 10000\n",
            "  cuDNN Build Version   : 7301\n",
            "  cuDNN Version         : 7301\n",
            "  NCCL Build Version    : 2402\n",
            "  NCCL Runtime Version  : 2402\n",
            "iDeep: 2.0.0.post3\n"
          ],
          "name": "stdout"
        }
      ]
    },
    {
      "cell_type": "code",
      "metadata": {
        "colab_type": "code",
        "id": "f1A8fHALavyp",
        "outputId": "dcdb6ecf-1be8-4711-9877-79f527955de7",
        "colab": {
          "base_uri": "https://localhost:8080/",
          "height": 275
        }
      },
      "source": [
        "!pip install chainercv matplotlib\n",
        "%matplotlib inline\n",
        "import matplotlib.pyplot as plt\n",
        "\n",
        "import glob\n",
        "import cupy\n",
        "import chainercv\n",
        "import matplotlib\n",
        "import chainer\n",
        "import chainer.links as L\n",
        "import chainer.functions as F\n",
        "from chainer import iterators, optimizers, training, datasets\n",
        "from chainer.datasets import split_dataset_random\n",
        "from chainer.dataset import concat_examples\n",
        "from chainer.cuda import to_cpu\n",
        "from chainer.training import extensions\n",
        "import numpy as np\n",
        "\n",
        "import os\n",
        "import xml.etree.ElementTree as ET\n",
        "from chainercv.datasets import VOCBboxDataset\n",
        "from chainercv.visualizations import vis_bbox\n",
        "from chainercv.links import SSD300\n",
        "from chainercv.links.model.ssd import multibox_loss\n",
        "\n",
        "from IPython.display import Image\n",
        "from PIL import Image\n",
        "from chainer import reporter\n",
        "from chainer import cuda\n",
        "from chainercv import evaluations"
      ],
      "execution_count": 0,
      "outputs": [
        {
          "output_type": "stream",
          "text": [
            "Requirement already satisfied: chainercv in /usr/local/lib/python3.6/dist-packages (0.12.0)\n",
            "Requirement already satisfied: matplotlib in /usr/local/lib/python3.6/dist-packages (3.0.3)\n",
            "Requirement already satisfied: Pillow in /usr/local/lib/python3.6/dist-packages (from chainercv) (4.3.0)\n",
            "Requirement already satisfied: chainer>=5.0 in /usr/local/lib/python3.6/dist-packages (from chainercv) (5.4.0)\n",
            "Requirement already satisfied: cycler>=0.10 in /usr/local/lib/python3.6/dist-packages (from matplotlib) (0.10.0)\n",
            "Requirement already satisfied: python-dateutil>=2.1 in /usr/local/lib/python3.6/dist-packages (from matplotlib) (2.5.3)\n",
            "Requirement already satisfied: numpy>=1.10.0 in /usr/local/lib/python3.6/dist-packages (from matplotlib) (1.16.3)\n",
            "Requirement already satisfied: kiwisolver>=1.0.1 in /usr/local/lib/python3.6/dist-packages (from matplotlib) (1.1.0)\n",
            "Requirement already satisfied: pyparsing!=2.0.4,!=2.1.2,!=2.1.6,>=2.0.1 in /usr/local/lib/python3.6/dist-packages (from matplotlib) (2.4.0)\n",
            "Requirement already satisfied: olefile in /usr/local/lib/python3.6/dist-packages (from Pillow->chainercv) (0.46)\n",
            "Requirement already satisfied: protobuf>=3.0.0 in /usr/local/lib/python3.6/dist-packages (from chainer>=5.0->chainercv) (3.7.1)\n",
            "Requirement already satisfied: six>=1.9.0 in /usr/local/lib/python3.6/dist-packages (from chainer>=5.0->chainercv) (1.12.0)\n",
            "Requirement already satisfied: filelock in /usr/local/lib/python3.6/dist-packages (from chainer>=5.0->chainercv) (3.0.10)\n",
            "Requirement already satisfied: setuptools in /usr/local/lib/python3.6/dist-packages (from kiwisolver>=1.0.1->matplotlib) (41.0.1)\n"
          ],
          "name": "stdout"
        }
      ]
    },
    {
      "cell_type": "code",
      "metadata": {
        "colab_type": "code",
        "id": "uAI-4qm1ayUF",
        "colab": {}
      },
      "source": [
        "!if [ ! -d train ]; then curl -L -O https://github.com/mitmul/chainer-handson/releases/download/SegmentationDataset/train.zip && unzip train.zip && rm -rf train.zip; fi\n",
        "!if [ ! -d val ]; then curl -L -O https://github.com/mitmul/chainer-handson/releases/download/SegmentationDataset/val.zip && unzip val.zip && rm -rf val.zip; fi"
      ],
      "execution_count": 0,
      "outputs": []
    },
    {
      "cell_type": "markdown",
      "metadata": {
        "colab_type": "text",
        "id": "Q6iu6CqDfQNh"
      },
      "source": [
        "<h3>　具体的なデータ例 </h3>"
      ]
    },
    {
      "cell_type": "code",
      "metadata": {
        "colab_type": "code",
        "id": "1RoNR9U1a09l",
        "outputId": "f8e803f2-1964-4941-c5ce-954dd3a8d3e2",
        "colab": {
          "base_uri": "https://localhost:8080/",
          "height": 578
        }
      },
      "source": [
        "for i in range(3):\n",
        "  img = np.asarray(Image.open(\"train/image/00\"+str(i)+\".png\"))\n",
        "  label = np.asarray(Image.open(\"train/label/00\"+str(i)+\".png\"))\n",
        "  fig, axes = plt.subplots(1,2)\n",
        "  axes[0].imshow(img, cmap=\"gray\")\n",
        "  axes[1].imshow(label, cmap=\"gray\")\n",
        "  plt.show()"
      ],
      "execution_count": 0,
      "outputs": [
        {
          "output_type": "display_data",
          "data": {
            "image/png": "[encoded data removed]",
            "text/plain": [
              "<Figure size 432x288 with 2 Axes>"
            ]
          },
          "metadata": {
            "tags": []
          }
        },
        {
          "output_type": "display_data",
          "data": {
            "image/png": "[encoded data removed]",
            "text/plain": [
              "<Figure size 432x288 with 2 Axes>"
            ]
          },
          "metadata": {
            "tags": []
          }
        },
        {
          "output_type": "display_data",
          "data": {
            "image/png": "[encoded data removed]",
            "text/plain": [
              "<Figure size 432x288 with 2 Axes>"
            ]
          },
          "metadata": {
            "tags": []
          }
        }
      ]
    },
    {
      "cell_type": "code",
      "metadata": {
        "colab_type": "code",
        "id": "ZTJbo_TFejWj",
        "colab": {}
      },
      "source": [
        "def create_dataset(img_files, label_files):\n",
        "  img = datasets.ImageDataset(img_files)\n",
        "  img = datasets.TransformDataset(img, lambda x: x/255.)\n",
        "  label = datasets.ImageDataset(label_files, dtype = np.int32)\n",
        "  dataset = datasets.TupleDataset(img, label)\n",
        "  return dataset  \n",
        "\n",
        "\n",
        "def create_datasets():\n",
        "  train_img_files   = sorted(glob.glob(\"train/image/*.png\"))\n",
        "  train_label_files = sorted(glob.glob(\"train/label/*.png\"))  \n",
        "  train = create_dataset(train_img_files, train_label_files)\n",
        "  val_img_filenames = sorted(glob.glob('val/image/*.png'))\n",
        "  val_label_filenames = sorted(glob.glob('val/label/*.png'))\n",
        "  val = create_dataset(val_img_filenames, val_label_filenames)\n",
        "  return train, val"
      ],
      "execution_count": 0,
      "outputs": []
    },
    {
      "cell_type": "code",
      "metadata": {
        "colab_type": "code",
        "id": "CTn3KDH2f2NX",
        "colab": {}
      },
      "source": [
        "train, val = create_datasets()\n",
        "\n",
        "FIXME_1 = 32\n",
        "FIXME_2 = 64\n",
        "FIXME_3 = 64\n",
        "FIXME_4 = 128\n",
        "FIXME_5 = 128"
      ],
      "execution_count": 0,
      "outputs": []
    },
    {
      "cell_type": "code",
      "metadata": {
        "colab_type": "code",
        "id": "4OEe7HqWf_rv",
        "colab": {}
      },
      "source": [
        "def evaluate(trainer, val, device=-1):\n",
        "    # Trainerオブジェクトから学習済みモデルを取り出す\n",
        "    model = trainer.updater.get_optimizer('main').target.predictor\n",
        "\n",
        "    # validationデータ全部に対して予測を行う\n",
        "    preds = []\n",
        "    for img, label in val:\n",
        "        img = cuda.to_gpu(img[np.newaxis], device)\n",
        "        pred = model(img)\n",
        "        pred = cuda.to_cpu(pred.data[0, 0] > 0)\n",
        "        preds.append((pred, label[0]))\n",
        "        \n",
        "    pred_labels, gt_labels = zip(*preds)\n",
        "\n",
        "    # 評価をして結果を表示\n",
        "    evals = evaluations.eval_semantic_segmentation(pred_labels, gt_labels)\n",
        "    print('Pixel Accuracy:', evals['pixel_accuracy'])\n",
        "    print('mIoU:', evals['miou'])\n",
        "\n",
        "    \n",
        "    \n",
        "def show_predicts(trainer, val, device=-1, n_sample=len(val)):\n",
        "    # Trainerオブジェクトから学習済みモデルを取り出す\n",
        "    model = trainer.updater.get_optimizer('main').target.predictor\n",
        "\n",
        "    for i in range(n_sample):\n",
        "        img, label = val[i]\n",
        "        img = cuda.to_gpu(img, device)\n",
        "        pred = model(img[np.newaxis])\n",
        "        pred = cuda.to_cpu(pred.data[0, 0] > 0)\n",
        "        fig, axes = plt.subplots(1, 2)\n",
        "\n",
        "        axes[0].set_axis_off()\n",
        "        axes[0].imshow(pred, cmap='gray')\n",
        "\n",
        "        axes[1].set_axis_off()\n",
        "        axes[1].imshow(label[0], cmap='gray')\n",
        "\n",
        "        plt.show()"
      ],
      "execution_count": 0,
      "outputs": []
    },
    {
      "cell_type": "code",
      "metadata": {
        "colab_type": "code",
        "id": "U1NsWmyYnkTN",
        "colab": {}
      },
      "source": [
        "class PixelwiseSigmoidClassifier(chainer.Chain):\n",
        "\n",
        "    def __init__(self, predictor):\n",
        "        super().__init__()\n",
        "        with self.init_scope():\n",
        "            # 学習対象のモデルをpredictorとして保持しておく\n",
        "            self.predictor = predictor\n",
        "\n",
        "    def __call__(self, x, t):\n",
        "        # 学習対象のモデルでまず推論を行う\n",
        "        y = self.predictor(x)\n",
        "\n",
        "        # 2クラス分類の誤差を計算\n",
        "        loss = F.sigmoid_cross_entropy(y, t)\n",
        "\n",
        "        # 予測結果（0~1の連続値を持つグレースケール画像）を二値化し，\n",
        "        # ChainerCVのeval_semantic_segmentation関数に正解ラベルと\n",
        "        # 共に渡して各種スコアを計算\n",
        "        y, t = cuda.to_cpu(F.sigmoid(y).data), cuda.to_cpu(t)\n",
        "        y = np.asarray(y > 0.5, dtype=np.int32)\n",
        "        y, t = y[:, 0, ...], t[:, 0, ...]\n",
        "        evals = evaluations.eval_semantic_segmentation(y, t)\n",
        "\n",
        "        # 学習中のログに出力\n",
        "        reporter.report({'loss': loss,\n",
        "                         'miou': evals['miou'],\n",
        "                         'pa': evals['pixel_accuracy']}, self)\n",
        "        return loss"
      ],
      "execution_count": 0,
      "outputs": []
    },
    {
      "cell_type": "code",
      "metadata": {
        "colab_type": "code",
        "id": "oBFAE5WHnzQW",
        "colab": {}
      },
      "source": [
        "def my_trainer(model, batchsize, train, val, stop, device=-1, log_trigger=(1, 'epoch')):\n",
        "    train_model = PixelwiseSigmoidClassifier(model)\n",
        "\n",
        "    optimizer = optimizers.Adam(eps=1e-05)\n",
        "    optimizer.setup(train_model)\n",
        "\n",
        "    train_iter = iterators.MultiprocessIterator(train, batchsize)\n",
        "    val_iter = iterators.MultiprocessIterator(val, batchsize, repeat=False, shuffle=False)\n",
        "\n",
        "    updater = training.StandardUpdater(train_iter, optimizer, device=device)\n",
        "\n",
        "    trainer = training.trainer.Trainer(updater, stop, out='result_fcn')\n",
        "\n",
        "    logging_attributes = [\n",
        "        'epoch', 'main/loss', 'main/miou', 'main/pa',\n",
        "        'val/main/loss', 'val/main/miou', 'val/main/pa']\n",
        "    trainer.extend(extensions.LogReport(logging_attributes), trigger=log_trigger)\n",
        "    trainer.extend(extensions.PrintReport(logging_attributes), trigger=log_trigger)\n",
        "    trainer.extend(extensions.PlotReport(['main/loss', 'val/main/loss'], 'epoch', file_name='loss.png'))\n",
        "    trainer.extend(extensions.PlotReport(['main/miou', 'val/main/miou'], 'epoch', file_name='miou.png'))\n",
        "    trainer.extend(extensions.PlotReport(['main/pa', 'val/main/pa'], 'epoch', file_name='pa.png'))\n",
        "    trainer.extend(extensions.Evaluator(val_iter, train_model, device=device), name='val')\n",
        "    trainer.extend(extensions.dump_graph('main/loss'))\n",
        "    return trainer"
      ],
      "execution_count": 0,
      "outputs": []
    },
    {
      "cell_type": "markdown",
      "metadata": {
        "colab_type": "text",
        "id": "vB-LNDl9gvB4"
      },
      "source": [
        "## モデル➀\n",
        "\n",
        "\n",
        "・U_Netの論文を読み，類似のネットワークを構成した\n",
        "\n",
        "\n",
        "・低解像度の特徴量マップと，高解像度の(位置情報に役立つ)マップをconcatした。\n",
        "\n",
        "\n",
        "・特徴量抽出の次元を32*32にまで落とした。"
      ]
    },
    {
      "cell_type": "markdown",
      "metadata": {
        "id": "HhyaS2MrD0gB",
        "colab_type": "text"
      },
      "source": [
        "<img src=\"IMG_1699.jpg\">"
      ]
    },
    {
      "cell_type": "code",
      "metadata": {
        "colab_type": "code",
        "id": "d5i5R074gal3",
        "colab": {}
      },
      "source": [
        "class U_Net(chainer.Chain):\n",
        "  def __init__(self, n_class=1):\n",
        "    super().__init__()\n",
        "    with self.init_scope():\n",
        "      self.conv1 = L.Convolution2D(None, FIXME_1, ksize=3, stride=1, pad=1)  #(batch_size, FIXME_1, height, width)\n",
        "      self.conv2 = L.Convolution2D(None, FIXME_1, ksize=3, stride=1, pad=1)\n",
        "      self.conv3 = L.Convolution2D(None, FIXME_2, ksize=3, stride=1, pad=1)\n",
        "      self.conv4 = L.Convolution2D(None, FIXME_2, ksize=3, stride=1, pad=1)\n",
        "      self.conv5 = L.Convolution2D(None, FIXME_3, ksize=3, stride=1, pad=1)\n",
        "      self.conv6 = L.Convolution2D(None, FIXME_3, ksize=3, stride=1, pad=1)     \n",
        "      \n",
        "      self.deconv1 = L.Deconvolution2D(None, FIXME_2, ksize=2, stride=2, pad=0)      \n",
        "      self.deconv2 = L.Deconvolution2D(None, FIXME_1, ksize=2, stride=2, pad=0)      \n",
        "   \n",
        "      self.conv7 = L.Convolution2D(None, FIXME_2, ksize=3, stride=1, pad=1)      \n",
        "      self.conv8 = L.Convolution2D(None, FIXME_2, ksize=3, stride=1, pad=1)      \n",
        "      self.conv9 = L.Convolution2D(None, FIXME_1, ksize=3, stride=1, pad=1)      \n",
        "      self.conv10 = L.Convolution2D(None, FIXME_1, ksize=3, stride=1, pad=1)      \n",
        "      self.conv11 = L.Convolution2D(None, n_class , ksize=1, stride=1, pad=0)     \n",
        "      \n",
        "      #もう1段階追加するために，以下を追加した\n",
        "      self.conv_a = L.Convolution2D(None, FIXME_4, ksize=3, stride=1, pad=1)\n",
        "      self.conv_b = L.Convolution2D(None, FIXME_4, ksize=3, stride=1, pad=1)   \n",
        "      self.deconv_c = L.Deconvolution2D(None, FIXME_3, ksize=2, stride=2, pad=0)            \n",
        "      self.conv_d = L.Convolution2D(None, FIXME_3, ksize=3, stride=1, pad=1)      \n",
        "      self.conv_e = L.Convolution2D(None, FIXME_3, ksize=3, stride=1, pad=1)\n",
        "      \n",
        "      \n",
        "  def forward(self, x):\n",
        "      h = F.relu(self.conv1(x))\n",
        "      h1 = F.relu(self.conv2(h))\n",
        "      h = F.max_pooling_2d(h1, 2, 2)  #(batch_size, FIXME_1, height/2, width/2)\n",
        "      \n",
        "      #print(h.shape)\n",
        "      \n",
        "      h = F.relu(self.conv3(h))   #(batch_size, FIXME_2, 128, 128)\n",
        "      h2 = F.relu(self.conv4(h))\n",
        "      h = F.max_pooling_2d(h2, 2, 2)  #(batch_size, FIXME_2, 64, 64)\n",
        "      \n",
        "      #print(h.shape)\n",
        "      \n",
        "      h = F.relu(self.conv5(h))   #(batch_size, FIXME_3, 64, 64)\n",
        "      h3 = F.relu(self.conv6(h))\n",
        "      \n",
        "      #以下を追加した\n",
        "      h = F.max_pooling_2d(h3, 2, 2) \n",
        "      h = F.relu(self.conv_a(h))   \n",
        "      h = F.relu(self.conv_b(h))    \n",
        "      h = self.deconv_c(h) \n",
        "      h = F.concat((h3,h), axis=1)\n",
        "      h = F.relu(self.conv_d(h))   \n",
        "      h = F.relu(self.conv_e(h))          \n",
        "      #以上を追加した\n",
        "      \n",
        "      \n",
        "      #expansive path\n",
        "      h = self.deconv1(h)  #(batch_size, FIXME_2, 128, 128)\n",
        "      h = F.concat((h2,h), axis=1)  #(batch_size, 256, 128, 128)\n",
        "      \n",
        "      #print(h.shape)\n",
        "      \n",
        "      h = F.relu(self.conv7(h))  #(batch, 128, 128, 128)\n",
        "      h = F.relu(self.conv8(h))  #(batch, 128, 128, 128)      \n",
        "      h = self.deconv2(h)  #(batch, 64, 256, 256)\n",
        "      h = F.concat((h1, h), axis=1)  #(batch, 128, 256, 256)\n",
        "      \n",
        "      #print(h.shape)\n",
        "      \n",
        "      h = F.relu(self.conv9(h))   #(batch, 64, 256, 256)\n",
        "      h = F.relu(self.conv10(h))  \n",
        "      h = F.relu(self.conv11(h))  #(batch, 1 , 256, 256)\n",
        "      \n",
        "      #print(h.shape)\n",
        "      \n",
        "      return h  "
      ],
      "execution_count": 0,
      "outputs": []
    },
    {
      "cell_type": "markdown",
      "metadata": {
        "colab_type": "text",
        "id": "V-gH0BNMqpeS"
      },
      "source": [
        "<h3>・200エポック\n",
        "\n",
        "\n",
        "・ミニバッチのサイズ=32\n",
        "\n",
        "\n",
        "・学習データ256より，1epoch当たりのバッチ数8 "
      ]
    },
    {
      "cell_type": "code",
      "metadata": {
        "colab_type": "code",
        "id": "M2_RJ544p2Ya",
        "outputId": "2f26805f-2c1f-487e-f25f-c3c6e48a7544",
        "colab": {
          "base_uri": "https://localhost:8080/",
          "height": 408
        }
      },
      "source": [
        "%%time\n",
        "trainer = my_trainer(U_Net(), 32, train, val, (200, 'epoch'), device=0, log_trigger=(10, 'epoch'))\n",
        "trainer.run()"
      ],
      "execution_count": 0,
      "outputs": [
        {
          "output_type": "stream",
          "text": [
            "epoch       main/loss   main/miou   main/pa     val/main/loss  val/main/miou  val/main/pa\n",
            "\u001b[J10          0.693147    0.491963    0.983926    0.693147       0.491152       0.982304     \n",
            "\u001b[J20          0.693147    0.491848    0.983696    0.693147       0.491152       0.982304     \n",
            "\u001b[J30          0.693147    0.491811    0.983623    0.693147       0.491152       0.982304     \n",
            "\u001b[J40          0.693147    0.49187     0.98374     0.693147       0.491152       0.982304     \n",
            "\u001b[J50          0.693147    0.491719    0.983438    0.693147       0.491152       0.982304     \n",
            "\u001b[J60          0.693147    0.490413    0.980826    0.693147       0.491152       0.982304     \n",
            "\u001b[J70          0.693147    0.49074     0.981479    0.693147       0.491152       0.982304     \n",
            "\u001b[J80          0.693147    0.491063    0.982125    0.693147       0.491152       0.982304     \n",
            "\u001b[J90          0.693147    0.492462    0.984923    0.693147       0.491152       0.982304     \n",
            "\u001b[J100         0.693147    0.492079    0.984158    0.693147       0.491152       0.982304     \n",
            "\u001b[J110         0.693147    0.491841    0.983682    0.693147       0.491152       0.982304     \n",
            "\u001b[J120         0.693147    0.491588    0.983177    0.693147       0.491152       0.982304     \n",
            "\u001b[J130         0.693147    0.491142    0.982284    0.693147       0.491152       0.982304     \n",
            "\u001b[J140         0.693147    0.491178    0.982356    0.693147       0.491152       0.982304     \n",
            "\u001b[J150         0.693147    0.492072    0.984143    0.693147       0.491152       0.982304     \n",
            "\u001b[J160         0.693147    0.490576    0.981152    0.693147       0.491152       0.982304     \n",
            "\u001b[J170         0.693147    0.489512    0.979023    0.693147       0.491152       0.982304     \n",
            "\u001b[J180         0.693147    0.492829    0.985657    0.693147       0.491152       0.982304     \n",
            "\u001b[J190         0.693147    0.491453    0.982906    0.693147       0.491152       0.982304     \n",
            "\u001b[J200         0.693147    0.493025    0.98605     0.693147       0.491152       0.982304     \n",
            "CPU times: user 10min 58s, sys: 6min 45s, total: 17min 44s\n",
            "Wall time: 16min 31s\n"
          ],
          "name": "stdout"
        }
      ]
    },
    {
      "cell_type": "markdown",
      "metadata": {
        "colab_type": "text",
        "id": "G_DCaMWoverF"
      },
      "source": [
        "###  lossが変わらず一定\n",
        "###  左が推論結果，右は正解。\n",
        "### どの入力に対しても同じ出力となってしまった"
      ]
    },
    {
      "cell_type": "code",
      "metadata": {
        "colab_type": "code",
        "id": "Bl0d7aiep2bL",
        "outputId": "56db746c-0f98-4b89-9db9-71066e61d670",
        "colab": {
          "base_uri": "https://localhost:8080/",
          "height": 4913
        }
      },
      "source": [
        "evaluate(trainer, val, device=0)\n",
        "show_predicts(trainer, val, device=0, )"
      ],
      "execution_count": 0,
      "outputs": [
        {
          "output_type": "stream",
          "text": [
            "Pixel Accuracy: 0.9823044996995193\n",
            "mIoU: 0.49115224984975964\n"
          ],
          "name": "stdout"
        },
        {
          "output_type": "display_data",
          "data": {
            "image/png": "[encoded data removed]",
            "text/plain": [
              "<Figure size 432x288 with 2 Axes>"
            ]
          },
          "metadata": {
            "tags": []
          }
        },
        {
          "output_type": "display_data",
          "data": {
            "image/png": "[encoded data removed]",
            "text/plain": [
              "<Figure size 432x288 with 2 Axes>"
            ]
          },
          "metadata": {
            "tags": []
          }
        },
        {
          "output_type": "display_data",
          "data": {
            "image/png": "[encoded data removed]",
            "text/plain": [
              "<Figure size 432x288 with 2 Axes>"
            ]
          },
          "metadata": {
            "tags": []
          }
        },
        {
          "output_type": "display_data",
          "data": {
            "image/png": "[encoded data removed]",
            "text/plain": [
              "<Figure size 432x288 with 2 Axes>"
            ]
          },
          "metadata": {
            "tags": []
          }
        },
        {
          "output_type": "display_data",
          "data": {
            "image/png": "[encoded data removed]",
            "text/plain": [
              "<Figure size 432x288 with 2 Axes>"
            ]
          },
          "metadata": {
            "tags": []
          }
        },
        {
          "output_type": "display_data",
          "data": {
            "image/png": "[encoded data removed]",
            "text/plain": [
              "<Figure size 432x288 with 2 Axes>"
            ]
          },
          "metadata": {
            "tags": []
          }
        },
        {
          "output_type": "display_data",
          "data": {
            "image/png": "[encoded data removed]",
            "text/plain": [
              "<Figure size 432x288 with 2 Axes>"
            ]
          },
          "metadata": {
            "tags": []
          }
        },
        {
          "output_type": "display_data",
          "data": {
            "image/png": "[encoded data removed]",
            "text/plain": [
              "<Figure size 432x288 with 2 Axes>"
            ]
          },
          "metadata": {
            "tags": []
          }
        },
        {
          "output_type": "display_data",
          "data": {
            "image/png": "[encoded data removed]",
            "text/plain": [
              "<Figure size 432x288 with 2 Axes>"
            ]
          },
          "metadata": {
            "tags": []
          }
        },
        {
          "output_type": "display_data",
          "data": {
            "image/png": "[encoded data removed]",
            "text/plain": [
              "<Figure size 432x288 with 2 Axes>"
            ]
          },
          "metadata": {
            "tags": []
          }
        },
        {
          "output_type": "display_data",
          "data": {
            "image/png": "[encoded data removed]",
            "text/plain": [
              "<Figure size 432x288 with 2 Axes>"
            ]
          },
          "metadata": {
            "tags": []
          }
        },
        {
          "output_type": "display_data",
          "data": {
            "image/png": "[encoded data removed]",
            "text/plain": [
              "<Figure size 432x288 with 2 Axes>"
            ]
          },
          "metadata": {
            "tags": []
          }
        },
        {
          "output_type": "display_data",
          "data": {
            "image/png": "[encoded data removed]",
            "text/plain": [
              "<Figure size 432x288 with 2 Axes>"
            ]
          },
          "metadata": {
            "tags": []
          }
        },
        {
          "output_type": "display_data",
          "data": {
            "image/png": "[encoded data removed]",
            "text/plain": [
              "<Figure size 432x288 with 2 Axes>"
            ]
          },
          "metadata": {
            "tags": []
          }
        },
        {
          "output_type": "display_data",
          "data": {
            "image/png": "[encoded data removed]",
            "text/plain": [
              "<Figure size 432x288 with 2 Axes>"
            ]
          },
          "metadata": {
            "tags": []
          }
        },
        {
          "output_type": "display_data",
          "data": {
            "image/png": "[encoded data removed]",
            "text/plain": [
              "<Figure size 432x288 with 2 Axes>"
            ]
          },
          "metadata": {
            "tags": []
          }
        },
        {
          "output_type": "display_data",
          "data": {
            "image/png": "[encoded data removed]",
            "text/plain": [
              "<Figure size 432x288 with 2 Axes>"
            ]
          },
          "metadata": {
            "tags": []
          }
        },
        {
          "output_type": "display_data",
          "data": {
            "image/png": "[encoded data removed]",
            "text/plain": [
              "<Figure size 432x288 with 2 Axes>"
            ]
          },
          "metadata": {
            "tags": []
          }
        },
        {
          "output_type": "display_data",
          "data": {
            "image/png": "[encoded data removed]",
            "text/plain": [
              "<Figure size 432x288 with 2 Axes>"
            ]
          },
          "metadata": {
            "tags": []
          }
        },
        {
          "output_type": "display_data",
          "data": {
            "image/png": "[encoded data removed]",
            "text/plain": [
              "<Figure size 432x288 with 2 Axes>"
            ]
          },
          "metadata": {
            "tags": []
          }
        },
        {
          "output_type": "display_data",
          "data": {
            "image/png": "[encoded data removed]",
            "text/plain": [
              "<Figure size 432x288 with 2 Axes>"
            ]
          },
          "metadata": {
            "tags": []
          }
        },
        {
          "output_type": "display_data",
          "data": {
            "image/png": "[encoded data removed]",
            "text/plain": [
              "<Figure size 432x288 with 2 Axes>"
            ]
          },
          "metadata": {
            "tags": []
          }
        },
        {
          "output_type": "display_data",
          "data": {
            "image/png": "[encoded data removed]",
            "text/plain": [
              "<Figure size 432x288 with 2 Axes>"
            ]
          },
          "metadata": {
            "tags": []
          }
        },
        {
          "output_type": "display_data",
          "data": {
            "image/png": "[encoded data removed]",
            "text/plain": [
              "<Figure size 432x288 with 2 Axes>"
            ]
          },
          "metadata": {
            "tags": []
          }
        },
        {
          "output_type": "display_data",
          "data": {
            "image/png": "[encoded data removed]",
            "text/plain": [
              "<Figure size 432x288 with 2 Axes>"
            ]
          },
          "metadata": {
            "tags": []
          }
        },
        {
          "output_type": "display_data",
          "data": {
            "image/png": "[encoded data removed]",
            "text/plain": [
              "<Figure size 432x288 with 2 Axes>"
            ]
          },
          "metadata": {
            "tags": []
          }
        }
      ]
    },
    {
      "cell_type": "markdown",
      "metadata": {
        "colab_type": "text",
        "id": "vZFQkYtxwcrY"
      },
      "source": [
        "### 考察\n",
        "\n",
        "・そもそも，クラス間 imbalanceがある(黒98%, 白2%くらい)ため，それを考慮し，loss関数をいじったほうがよさそう\n",
        "\n",
        "→しかし残念ながら、IoUは、損失関数に不向きな事が式の形からわかる。\n",
        "\n",
        "→ 最近の研究だと、lovasz softmax などが有力か\n",
        "\n",
        "\n",
        "・loss関数はsigmoid_cross_entropyであるため，この学習結果のloss自体はたしかに，高い訳ではない。すなわち，学習データ数に対して，パラメタが多すぎるため，局所解に陥った可能性が考えられる。\n",
        "\n",
        "→使う層の数を減らし，かつ，積極的に次元を下げていったらどうなるか？\n",
        "\n"
      ]
    },
    {
      "cell_type": "markdown",
      "metadata": {
        "colab_type": "text",
        "id": "n9g8MqS2zjgn"
      },
      "source": [
        "## そこで，モデル②\n",
        "\n",
        "\n",
        "・基本的なアーキテクチュアはU_Netと似ているが，層数を大幅に減らした\n",
        "\n",
        "（特にexpansive path, すなわちdecoderの部分）\n",
        "\n",
        "\n",
        "・特徴量抽出の次元は16 * 16\n",
        "\n",
        "\n",
        "・skip connection の部分について，\n",
        "\n",
        "　　concat, residual,そもそも無し，の3パターンを試した。"
      ]
    },
    {
      "cell_type": "markdown",
      "metadata": {
        "id": "crGPY-wOD0gj",
        "colab_type": "text"
      },
      "source": [
        "<img src=\"IMG_1700.jpg\">"
      ]
    },
    {
      "cell_type": "code",
      "metadata": {
        "colab_type": "code",
        "id": "F728xQUEp21B",
        "colab": {}
      },
      "source": [
        "class U_Net_Modified(chainer.Chain):\n",
        "    def __init__(self, n_class=1, residual=False, u_net=True):\n",
        "        super().__init__()\n",
        "        with self.init_scope():\n",
        "            # L.Convolution2D(in_ch, out_ch, ksize, stride, pad)\n",
        "            # in_chは省略することができるので，\n",
        "            # L.Convolution2D(out_ch, ksize, stride, pad)\n",
        "            # とかくこともできます．\n",
        "            self.conv1 = L.Convolution2D(None, FIXME_1, ksize=5, stride=2, pad=2)  #shape will be half \n",
        "            self.conv2 = L.Convolution2D(None, FIXME_2, ksize=5, stride=2, pad=2)  #shape will be half\n",
        "            self.conv3 = L.Convolution2D(None, FIXME_3, ksize=3, stride=1, pad=1)  #not change shape \n",
        "            self.conv4 = L.Convolution2D(None, FIXME_4, ksize=3, stride=1, pad=1)  #not change shape             \n",
        "            self.conv5 = L.Convolution2D(None, FIXME_1, ksize=5, stride=1, pad=2)  #not change shape\n",
        "            \n",
        "            # L.Deconvolution2D(in_ch, out_ch, ksize, stride, pad)\n",
        "            # in_chは省略することができるので，\n",
        "            # L.Deconvolution2D(out_ch, ksize, stride, pad)\n",
        "            # と書くこともできます．\n",
        "            self.deconv6 = L.Deconvolution2D(None, FIXME_1, ksize=16, stride=8, pad=4)\n",
        "            self.deconv7 = L.Deconvolution2D(None, n_class, ksize=2 , stride=2, pad=0)\n",
        "     \n",
        "        self.residual = residual\n",
        "        self.u_net = u_net\n",
        "\n",
        "    def forward(self, x):\n",
        "        h1 = F.relu(self.conv1(x))\n",
        "        h = F.max_pooling_2d(h1, 2, 2)\n",
        "        \n",
        "        #print(h.shape)\n",
        "\n",
        "        h = F.relu(self.conv2(h))\n",
        "        h = F.max_pooling_2d(h, 2, 2)\n",
        "\n",
        "        #print(h.shape)\n",
        "        \n",
        "        h = F.relu(self.conv3(h))\n",
        "        h = F.relu(self.conv4(h))\n",
        "      \n",
        "\n",
        "        #print(h.shape)        \n",
        "        \n",
        "        h = self.deconv6(h)\n",
        "        \n",
        "        if self.u_net:\n",
        "          #residual or concat\n",
        "          if self.residual:\n",
        "            h = h + h1\n",
        "          else:\n",
        "            h = F.concat((h,h1), axis=1)\n",
        "\n",
        "        #print(h.shape)        \n",
        "        \n",
        "        h = F.relu(self.conv5(h))\n",
        "        h = self.deconv7(h)        \n",
        "\n",
        "        #print(h.shape)\n",
        "        \n",
        "        return h"
      ],
      "execution_count": 0,
      "outputs": []
    },
    {
      "cell_type": "code",
      "metadata": {
        "colab_type": "code",
        "id": "5hrlaS4pwECu",
        "outputId": "d9f7d1f4-f547-4768-a504-765e082aaa70",
        "colab": {
          "base_uri": "https://localhost:8080/",
          "height": 408
        }
      },
      "source": [
        "%%time\n",
        "trainer = my_trainer(U_Net_Modified(), 32, train, val, (200, 'epoch'), device=0, log_trigger=(10, 'epoch'))\n",
        "trainer.run()"
      ],
      "execution_count": 0,
      "outputs": [
        {
          "output_type": "stream",
          "text": [
            "epoch       main/loss   main/miou   main/pa     val/main/loss  val/main/miou  val/main/pa\n",
            "\u001b[J10          0.0391073   0.52683     0.986184    0.04181        0.501727       0.98267      \n",
            "\u001b[J20          0.0206974   0.503896    0.984374    0.0222926      0.507351       0.982698     \n",
            "\u001b[J30          0.0102971   0.887254    0.995773    0.0148722      0.860003       0.993649     \n",
            "\u001b[J40          0.00496249  0.943732    0.99805     0.00942614     0.902827       0.996199     \n",
            "\u001b[J50          0.00403866  0.951678    0.998322    0.00859004     0.911234       0.996696     \n",
            "\u001b[J60          0.00387367  0.95061     0.998246    0.00977102     0.912131       0.996527     \n",
            "\u001b[J70          0.00214973  0.972352    0.99914     0.0099491      0.916104       0.996789     \n",
            "\u001b[J80          0.00200722  0.976505    0.999205    0.00999745     0.917611       0.99694      \n",
            "\u001b[J90          0.00165464  0.97719     0.999304    0.0099199      0.922951       0.997118     \n",
            "\u001b[J100         0.00168355  0.98231     0.999326    0.0110782      0.920557       0.996925     \n",
            "\u001b[J110         0.00168017  0.978989    0.999284    0.0104628      0.926014       0.997201     \n",
            "\u001b[J120         0.00110147  0.986048    0.999582    0.0117203      0.923461       0.997133     \n",
            "\u001b[J130         0.00141849  0.984033    0.999392    0.0120597      0.924695       0.997139     \n",
            "\u001b[J140         0.00140531  0.982808    0.999384    0.0135587      0.922172       0.997079     \n",
            "\u001b[J150         0.0011097   0.98687     0.999562    0.0137773      0.92478        0.99716      \n",
            "\u001b[J160         0.00161058  0.981004    0.999315    0.0125146      0.925805       0.997168     \n",
            "\u001b[J170         0.00110857  0.986318    0.999562    0.012573       0.92387        0.997125     \n",
            "\u001b[J180         0.000837182  0.989934    0.99968     0.0142989      0.925254       0.9972       \n",
            "\u001b[J190         0.000882052  0.988796    0.999639    0.0154474      0.92573        0.997211     \n",
            "\u001b[J200         0.00151544  0.980715    0.999341    0.0138442      0.919864       0.996918     \n",
            "CPU times: user 4min 51s, sys: 1min 52s, total: 6min 43s\n",
            "Wall time: 5min 22s\n"
          ],
          "name": "stdout"
        }
      ]
    },
    {
      "cell_type": "code",
      "metadata": {
        "colab_type": "code",
        "id": "NWYDlXghwEFO",
        "outputId": "7de23ae3-753a-4e44-e2cb-ab4ec7ba967b",
        "colab": {
          "base_uri": "https://localhost:8080/",
          "height": 300
        }
      },
      "source": [
        "from IPython.display import Image\n",
        "\n",
        "print('Loss')\n",
        "Image('result_fcn/loss.png')"
      ],
      "execution_count": 0,
      "outputs": [
        {
          "output_type": "stream",
          "text": [
            "Loss\n"
          ],
          "name": "stdout"
        },
        {
          "output_type": "execute_result",
          "data": {
            "image/png": "[encoded data removed]",
            "text/plain": [
              "<IPython.core.display.Image object>"
            ]
          },
          "metadata": {
            "tags": []
          },
          "execution_count": 81
        }
      ]
    },
    {
      "cell_type": "code",
      "metadata": {
        "colab_type": "code",
        "id": "8yF7aysEwEIA",
        "outputId": "fb8578ce-6adf-4ecb-8e0e-38263c373557",
        "colab": {
          "base_uri": "https://localhost:8080/",
          "height": 300
        }
      },
      "source": [
        "print('mean IoU')\n",
        "Image('result_fcn/miou.png')"
      ],
      "execution_count": 0,
      "outputs": [
        {
          "output_type": "stream",
          "text": [
            "mean IoU\n"
          ],
          "name": "stdout"
        },
        {
          "output_type": "execute_result",
          "data": {
            "image/png": "[encoded data removed]",
            "text/plain": [
              "<IPython.core.display.Image object>"
            ]
          },
          "metadata": {
            "tags": []
          },
          "execution_count": 82
        }
      ]
    },
    {
      "cell_type": "code",
      "metadata": {
        "colab_type": "code",
        "id": "vvFwAghrwEK4",
        "outputId": "27b5fd07-c4e9-4039-b75a-b1f381ef8480",
        "colab": {
          "base_uri": "https://localhost:8080/",
          "height": 300
        }
      },
      "source": [
        "print('Pixel Accuracy')\n",
        "Image('result_fcn/pa.png')"
      ],
      "execution_count": 0,
      "outputs": [
        {
          "output_type": "stream",
          "text": [
            "Pixel Accuracy\n"
          ],
          "name": "stdout"
        },
        {
          "output_type": "execute_result",
          "data": {
            "image/png": "[encoded data removed]",
            "text/plain": [
              "<IPython.core.display.Image object>"
            ]
          },
          "metadata": {
            "tags": []
          },
          "execution_count": 83
        }
      ]
    },
    {
      "cell_type": "code",
      "metadata": {
        "colab_type": "code",
        "id": "eMdMsUxk2eQ-",
        "outputId": "05f7da6a-031e-4447-d9f3-d90d107bfc86",
        "colab": {
          "base_uri": "https://localhost:8080/",
          "height": 4913
        }
      },
      "source": [
        "evaluate(trainer, val, device=0)\n",
        "show_predicts(trainer, val, device=0, )"
      ],
      "execution_count": 0,
      "outputs": [
        {
          "output_type": "stream",
          "text": [
            "Pixel Accuracy: 0.996917724609375\n",
            "mIoU: 0.9198643041707664\n"
          ],
          "name": "stdout"
        },
        {
          "output_type": "display_data",
          "data": {
            "image/png": "[encoded data removed]",
            "text/plain": [
              "<Figure size 432x288 with 2 Axes>"
            ]
          },
          "metadata": {
            "tags": []
          }
        },
        {
          "output_type": "display_data",
          "data": {
            "image/png": "[encoded data removed]",
            "text/plain": [
              "<Figure size 432x288 with 2 Axes>"
            ]
          },
          "metadata": {
            "tags": []
          }
        },
        {
          "output_type": "display_data",
          "data": {
            "image/png": "[encoded data removed]",
            "text/plain": [
              "<Figure size 432x288 with 2 Axes>"
            ]
          },
          "metadata": {
            "tags": []
          }
        },
        {
          "output_type": "display_data",
          "data": {
            "image/png": "[encoded data removed]",
            "text/plain": [
              "<Figure size 432x288 with 2 Axes>"
            ]
          },
          "metadata": {
            "tags": []
          }
        },
        {
          "output_type": "display_data",
          "data": {
            "image/png": "[encoded data removed]",
            "text/plain": [
              "<Figure size 432x288 with 2 Axes>"
            ]
          },
          "metadata": {
            "tags": []
          }
        },
        {
          "output_type": "display_data",
          "data": {
            "image/png": "[encoded data removed]",
            "text/plain": [
              "<Figure size 432x288 with 2 Axes>"
            ]
          },
          "metadata": {
            "tags": []
          }
        },
        {
          "output_type": "display_data",
          "data": {
            "image/png": "[encoded data removed]",
            "text/plain": [
              "<Figure size 432x288 with 2 Axes>"
            ]
          },
          "metadata": {
            "tags": []
          }
        },
        {
          "output_type": "display_data",
          "data": {
            "image/png": "[encoded data removed]",
            "text/plain": [
              "<Figure size 432x288 with 2 Axes>"
            ]
          },
          "metadata": {
            "tags": []
          }
        },
        {
          "output_type": "display_data",
          "data": {
            "image/png": "[encoded data removed]",
            "text/plain": [
              "<Figure size 432x288 with 2 Axes>"
            ]
          },
          "metadata": {
            "tags": []
          }
        },
        {
          "output_type": "display_data",
          "data": {
            "image/png": "[encoded data removed]",
            "text/plain": [
              "<Figure size 432x288 with 2 Axes>"
            ]
          },
          "metadata": {
            "tags": []
          }
        },
        {
          "output_type": "display_data",
          "data": {
            "image/png": "[encoded data removed]",
            "text/plain": [
              "<Figure size 432x288 with 2 Axes>"
            ]
          },
          "metadata": {
            "tags": []
          }
        },
        {
          "output_type": "display_data",
          "data": {
            "image/png": "[encoded data removed]",
            "text/plain": [
              "<Figure size 432x288 with 2 Axes>"
            ]
          },
          "metadata": {
            "tags": []
          }
        },
        {
          "output_type": "display_data",
          "data": {
            "image/png": "[encoded data removed]",
            "text/plain": [
              "<Figure size 432x288 with 2 Axes>"
            ]
          },
          "metadata": {
            "tags": []
          }
        },
        {
          "output_type": "display_data",
          "data": {
            "image/png": "[encoded data removed]",
            "text/plain": [
              "<Figure size 432x288 with 2 Axes>"
            ]
          },
          "metadata": {
            "tags": []
          }
        },
        {
          "output_type": "display_data",
          "data": {
            "image/png": "[encoded data removed]",
            "text/plain": [
              "<Figure size 432x288 with 2 Axes>"
            ]
          },
          "metadata": {
            "tags": []
          }
        },
        {
          "output_type": "display_data",
          "data": {
            "image/png": "[encoded data removed]",
            "text/plain": [
              "<Figure size 432x288 with 2 Axes>"
            ]
          },
          "metadata": {
            "tags": []
          }
        },
        {
          "output_type": "display_data",
          "data": {
            "image/png": "[encoded data removed]",
            "text/plain": [
              "<Figure size 432x288 with 2 Axes>"
            ]
          },
          "metadata": {
            "tags": []
          }
        },
        {
          "output_type": "display_data",
          "data": {
            "image/png": "[encoded data removed]",
            "text/plain": [
              "<Figure size 432x288 with 2 Axes>"
            ]
          },
          "metadata": {
            "tags": []
          }
        },
        {
          "output_type": "display_data",
          "data": {
            "image/png": "[encoded data removed]",
            "text/plain": [
              "<Figure size 432x288 with 2 Axes>"
            ]
          },
          "metadata": {
            "tags": []
          }
        },
        {
          "output_type": "display_data",
          "data": {
            "image/png": "[encoded data removed]",
            "text/plain": [
              "<Figure size 432x288 with 2 Axes>"
            ]
          },
          "metadata": {
            "tags": []
          }
        },
        {
          "output_type": "display_data",
          "data": {
            "image/png": "[encoded data removed]",
            "text/plain": [
              "<Figure size 432x288 with 2 Axes>"
            ]
          },
          "metadata": {
            "tags": []
          }
        },
        {
          "output_type": "display_data",
          "data": {
            "image/png": "[encoded data removed]",
            "text/plain": [
              "<Figure size 432x288 with 2 Axes>"
            ]
          },
          "metadata": {
            "tags": []
          }
        },
        {
          "output_type": "display_data",
          "data": {
            "image/png": "[encoded data removed]",
            "text/plain": [
              "<Figure size 432x288 with 2 Axes>"
            ]
          },
          "metadata": {
            "tags": []
          }
        },
        {
          "output_type": "display_data",
          "data": {
            "image/png": "[encoded data removed]",
            "text/plain": [
              "<Figure size 432x288 with 2 Axes>"
            ]
          },
          "metadata": {
            "tags": []
          }
        },
        {
          "output_type": "display_data",
          "data": {
            "image/png": "[encoded data removed]",
            "text/plain": [
              "<Figure size 432x288 with 2 Axes>"
            ]
          },
          "metadata": {
            "tags": []
          }
        },
        {
          "output_type": "display_data",
          "data": {
            "image/png": "[encoded data removed]",
            "text/plain": [
              "<Figure size 432x288 with 2 Axes>"
            ]
          },
          "metadata": {
            "tags": []
          }
        }
      ]
    },
    {
      "cell_type": "code",
      "metadata": {
        "colab_type": "code",
        "id": "ArP74s2B2fJF",
        "outputId": "69f0f8d4-3909-4ed7-fdc8-8481a6821114",
        "colab": {
          "base_uri": "https://localhost:8080/",
          "height": 408
        }
      },
      "source": [
        "%%time\n",
        "trainer = my_trainer(U_Net_Modified(residual = True), 32, train, val, (200, 'epoch'), device=0, log_trigger=(10, 'epoch'))\n",
        "trainer.run()"
      ],
      "execution_count": 0,
      "outputs": [
        {
          "output_type": "stream",
          "text": [
            "epoch       main/loss   main/miou   main/pa     val/main/loss  val/main/miou  val/main/pa\n",
            "\u001b[J10          0.0356685   0.49159     0.982421    0.0405403      0.491169       0.982305     \n",
            "\u001b[J20          0.0205765   0.505155    0.984372    0.0234731      0.503295       0.982696     \n",
            "\u001b[J30          0.0169704   0.505131    0.98384     0.0190467      0.502437       0.982609     \n",
            "\u001b[J40          0.0155148   0.508425    0.983593    0.0180128      0.507977       0.982737     \n",
            "\u001b[J50          0.0173292   0.874904    0.995274    0.0173775      0.896778       0.996064     \n",
            "\u001b[J60          0.0136092   0.939462    0.997943    0.0171133      0.889929       0.995962     \n",
            "\u001b[J70          0.0130086   0.907695    0.997088    0.0168947      0.898903       0.996166     \n",
            "\u001b[J80          0.00803874  0.919934    0.997156    0.0107943      0.896355       0.995923     \n",
            "\u001b[J90          0.00353887  0.955933    0.99856     0.00916528     0.913919       0.996742     \n",
            "\u001b[J100         0.00237634  0.970966    0.999008    0.00919438     0.921078       0.997039     \n",
            "\u001b[J110         0.00212007  0.970239    0.999141    0.0101508      0.918568       0.99699      \n",
            "\u001b[J120         0.0019614   0.979561    0.999206    0.011086       0.916284       0.996874     \n",
            "\u001b[J130         0.00199185  0.975607    0.999174    0.0119034      0.911265       0.996778     \n",
            "\u001b[J140         0.00135242  0.986236    0.999502    0.0124011      0.917573       0.996954     \n",
            "\u001b[J150         0.00186912  0.971499    0.999197    0.0116989      0.920014       0.99703      \n",
            "\u001b[J160         0.0011111   0.98627     0.999553    0.0131126      0.920005       0.997003     \n",
            "\u001b[J170         0.00114601  0.989803    0.999603    0.0137006      0.918998       0.997023     \n",
            "\u001b[J180         0.00128632  0.984024    0.999463    0.0159229      0.915671       0.996918     \n",
            "\u001b[J190         0.00112337  0.984514    0.999561    0.0115166      0.923875       0.997192     \n",
            "\u001b[J200         0.000990962  0.988038    0.999612    0.0142617      0.921479       0.997078     \n",
            "CPU times: user 4min 39s, sys: 1min 37s, total: 6min 16s\n",
            "Wall time: 4min 58s\n"
          ],
          "name": "stdout"
        }
      ]
    },
    {
      "cell_type": "code",
      "metadata": {
        "colab_type": "code",
        "id": "ylVhIQT24Yc1",
        "outputId": "3440cbb6-e3cb-4da1-aa0c-6203d384bf49",
        "colab": {
          "base_uri": "https://localhost:8080/",
          "height": 51
        }
      },
      "source": [
        "evaluate(trainer, val, device=0)"
      ],
      "execution_count": 0,
      "outputs": [
        {
          "output_type": "stream",
          "text": [
            "Pixel Accuracy: 0.9970779418945312\n",
            "mIoU: 0.9214790057350938\n"
          ],
          "name": "stdout"
        }
      ]
    },
    {
      "cell_type": "code",
      "metadata": {
        "colab_type": "code",
        "id": "rsi_WmG54avL",
        "outputId": "c51d41de-70ae-45c1-81b6-2dedb642d0cc",
        "colab": {
          "base_uri": "https://localhost:8080/",
          "height": 408
        }
      },
      "source": [
        "%%time\n",
        "trainer = my_trainer(U_Net_Modified(u_net = False), 32, train, val, (200, 'epoch'), device=0, log_trigger=(10, 'epoch'))\n",
        "trainer.run()"
      ],
      "execution_count": 0,
      "outputs": [
        {
          "output_type": "stream",
          "text": [
            "epoch       main/loss   main/miou   main/pa     val/main/loss  val/main/miou  val/main/pa\n",
            "\u001b[J10          0.0399843   0.491875    0.98375     0.0449939      0.491152       0.982304     \n",
            "\u001b[J20          0.0271965   0.725381    0.989254    0.0291403      0.668642       0.988041     \n",
            "\u001b[J30          0.012834    0.86093     0.994646    0.0126787      0.855363       0.994549     \n",
            "\u001b[J40          0.00697864  0.915453    0.997081    0.010631       0.888199       0.995695     \n",
            "\u001b[J50          0.00678588  0.932263    0.997264    0.00977601     0.896241       0.996069     \n",
            "\u001b[J60          0.00430785  0.949393    0.998209    0.00997429     0.905688       0.996342     \n",
            "\u001b[J70          0.00318114  0.956215    0.99865     0.00966042     0.908795       0.996537     \n",
            "\u001b[J80          0.00437272  0.941499    0.998106    0.0100529      0.91118        0.99665      \n",
            "\u001b[J90          0.00220941  0.972875    0.99911     0.0110228      0.912314       0.996699     \n",
            "\u001b[J100         0.00191622  0.975064    0.999215    0.0116934      0.913628       0.996741     \n",
            "\u001b[J110         0.0023331   0.972383    0.998973    0.0123028      0.912111       0.996584     \n",
            "\u001b[J120         0.00154468  0.981471    0.999393    0.0134002      0.916044       0.996791     \n",
            "\u001b[J130         0.00163633  0.981154    0.999354    0.0128512      0.916316       0.996775     \n",
            "\u001b[J140         0.0015182   0.981854    0.999383    0.0134837      0.91612        0.996813     \n",
            "\u001b[J150         0.00129136  0.984664    0.999476    0.014162       0.918225       0.996917     \n",
            "\u001b[J160         0.00324902  0.955151    0.998691    0.0157376      0.913308       0.996554     \n",
            "\u001b[J170         0.00111414  0.984926    0.999584    0.0136858      0.918605       0.996948     \n",
            "\u001b[J180         0.00100059  0.989996    0.999617    0.0160187      0.919456       0.996976     \n",
            "\u001b[J190         0.00131006  0.981374    0.999438    0.0156641      0.917409       0.996934     \n",
            "\u001b[J200         0.00121862  0.982643    0.999472    0.0159947      0.919784       0.996936     \n",
            "CPU times: user 4min 33s, sys: 1min 36s, total: 6min 10s\n",
            "Wall time: 4min 53s\n"
          ],
          "name": "stdout"
        }
      ]
    },
    {
      "cell_type": "code",
      "metadata": {
        "colab_type": "code",
        "id": "CJMoSmck4eZb",
        "outputId": "e6177805-5e18-4985-91c0-3aee9815494f",
        "colab": {
          "base_uri": "https://localhost:8080/",
          "height": 51
        }
      },
      "source": [
        "evaluate(trainer, val, device=0)"
      ],
      "execution_count": 0,
      "outputs": [
        {
          "output_type": "stream",
          "text": [
            "Pixel Accuracy: 0.9969359177809495\n",
            "mIoU: 0.919784444968085\n"
          ],
          "name": "stdout"
        }
      ]
    },
    {
      "cell_type": "markdown",
      "metadata": {
        "colab_type": "text",
        "id": "pzoZxotV8oYA"
      },
      "source": [
        "## 考察\n",
        "\n",
        "\n",
        "３ついずれも優れた結果を出している。\n",
        "\n",
        "skip connection がどれくらい効果があるのかについては，明らかには確かめられず。\n",
        "\n",
        "(そもそもレイヤー数が少なめゆえ、使うまでもなかったのかも？)"
      ]
    },
    {
      "cell_type": "markdown",
      "metadata": {
        "colab_type": "text",
        "id": "Tbi13_l_5Ohz"
      },
      "source": [
        "## その他\n",
        "\n",
        "学習データ数を256から減らしてみた所，200epochで\n",
        "\n",
        "・データ数96でmIou=0.818\n",
        "\n",
        "・データ数26でmIou=0.795\n",
        "\n",
        "となった。\n",
        "\n",
        "これは，「学習データ数が少ないと，汎化能力が下がる」ことを意味する。\n",
        "\n",
        "とは言え，データ数が数10個という非常に小さい中でも，適切にアーキテクチュアを設計できればこれほどのスコアがでるというのは，逆にすごいと感じる。\n"
      ]
    },
    {
      "cell_type": "markdown",
      "metadata": {
        "id": "gNodCaQ8D0iL",
        "colab_type": "text"
      },
      "source": [
        "## 改善点\n",
        "\n",
        "・mIoU(mean Intersection over Union)の指標を使ったが、全部黒の時のスコアは0とするほうが直観的ではあるので、\n",
        "\n",
        "今回のタスクの場合では、白だけに着目したIoU（Precisionというらしい?）を計算したほうが直観的ではあったか。\n",
        "\n",
        "\n",
        "・画像を回転や反転させてデータ増やすのはあり\n",
        "\n",
        "\n",
        "\n"
      ]
    }
  ]
}