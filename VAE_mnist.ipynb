{
  "nbformat": 4,
  "nbformat_minor": 0,
  "metadata": {
    "colab": {
      "name": "VAE_mnist.ipynb",
      "provenance": [],
      "collapsed_sections": [],
      "include_colab_link": true
    },
    "kernelspec": {
      "name": "python3",
      "display_name": "Python 3"
    },
    "accelerator": "GPU"
  },
  "cells": [
    {
      "cell_type": "markdown",
      "metadata": {
        "id": "view-in-github",
        "colab_type": "text"
      },
      "source": [
        "<a href=\"https://colab.research.google.com/github/Yodai1996/CV/blob/master/VAE_mnist.ipynb\" target=\"_parent\"><img src=\"https://colab.research.google.com/assets/colab-badge.svg\" alt=\"Open In Colab\"/></a>"
      ]
    },
    {
      "cell_type": "code",
      "metadata": {
        "id": "-sqJsgdaoZlQ",
        "colab_type": "code",
        "colab": {}
      },
      "source": [
        "import matplotlib.pyplot as plt\n",
        "import numpy as np\n",
        "import csv\n",
        "import torch\n",
        "from torch import nn\n",
        "from torch import optim\n",
        "import torch.nn.functional as F"
      ],
      "execution_count": 0,
      "outputs": []
    },
    {
      "cell_type": "code",
      "metadata": {
        "id": "M3VB7Xhru5fR",
        "colab_type": "code",
        "outputId": "b3a37576-91e5-486c-9965-816a96732360",
        "colab": {
          "base_uri": "https://localhost:8080/",
          "height": 122
        }
      },
      "source": [
        "!pip install torch torchvision\n",
        "\n",
        "import torch\n",
        "torch.cuda.is_available()\n",
        "\n",
        "device = torch.device('cuda' if torch.cuda.is_available() else 'cpu')"
      ],
      "execution_count": 325,
      "outputs": [
        {
          "output_type": "stream",
          "text": [
            "Requirement already satisfied: torch in /usr/local/lib/python3.6/dist-packages (1.2.0)\n",
            "Requirement already satisfied: torchvision in /usr/local/lib/python3.6/dist-packages (0.4.0)\n",
            "Requirement already satisfied: numpy in /usr/local/lib/python3.6/dist-packages (from torch) (1.16.5)\n",
            "Requirement already satisfied: pillow>=4.1.1 in /usr/local/lib/python3.6/dist-packages (from torchvision) (4.3.0)\n",
            "Requirement already satisfied: six in /usr/local/lib/python3.6/dist-packages (from torchvision) (1.12.0)\n",
            "Requirement already satisfied: olefile in /usr/local/lib/python3.6/dist-packages (from pillow>=4.1.1->torchvision) (0.46)\n"
          ],
          "name": "stdout"
        }
      ]
    },
    {
      "cell_type": "markdown",
      "metadata": {
        "id": "Mpt_419MuPAl",
        "colab_type": "text"
      },
      "source": [
        "input and output\n",
        "\n",
        "もうちょい画素数多い鮮明な画像を使ってもいい。"
      ]
    },
    {
      "cell_type": "code",
      "metadata": {
        "id": "xiVUVoH-goEJ",
        "colab_type": "code",
        "colab": {}
      },
      "source": [
        "FILE_NAME  = \"./sample_data/mnist_train_small.csv\"\n",
        "FILE_NAME2 = \"./sample_data/mnist_test.csv\"\n",
        "\n",
        "num_epoch = 2000"
      ],
      "execution_count": 0,
      "outputs": []
    },
    {
      "cell_type": "code",
      "metadata": {
        "id": "0JG0KlcSiE61",
        "colab_type": "code",
        "colab": {}
      },
      "source": [
        "label_one_data   = []\n",
        "label_four_data  = []\n",
        "label_seven_data = []\n",
        "\n",
        "with open(FILE_NAME) as f:\n",
        "  reader = csv.reader(f)\n",
        "  for row in reader:\n",
        "    label = row[0]\n",
        "    if label==\"1\":\n",
        "      label_one_data.append([float(elem)/255 for elem in row[1:]])\n",
        "    elif label == \"4\":\n",
        "      label_four_data.append([float(elem)/255 for elem in row[1:]])\n",
        "    elif label == \"7\":\n",
        "      label_seven_data.append([float(elem)/255 for elem in row[1:]])\n",
        "      \n",
        "with open(FILE_NAME2) as g:\n",
        "  reader = csv.reader(g)\n",
        "  for row in reader:\n",
        "    label = row[0]\n",
        "    if label==\"1\":\n",
        "      label_one_data.append([float(elem)/255 for elem in row[1:]])\n",
        "    elif label == \"4\":\n",
        "      label_four_data.append([float(elem)/255 for elem in row[1:]])\n",
        "    elif label == \"7\":\n",
        "      label_seven_data.append([float(elem)/255 for elem in row[1:]])"
      ],
      "execution_count": 0,
      "outputs": []
    },
    {
      "cell_type": "code",
      "metadata": {
        "id": "JMdeu5_Q3rIN",
        "colab_type": "code",
        "colab": {}
      },
      "source": [
        "label_one_data = np.array(label_one_data)\n",
        "label_four_data = np.array(label_four_data)\n",
        "label_seven_data = np.array(label_seven_data)"
      ],
      "execution_count": 0,
      "outputs": []
    },
    {
      "cell_type": "code",
      "metadata": {
        "id": "AQY3InaxooOc",
        "colab_type": "code",
        "outputId": "754109d3-b06f-4553-df5d-5602a251887b",
        "colab": {
          "base_uri": "https://localhost:8080/",
          "height": 34
        }
      },
      "source": [
        "label_one_data.shape"
      ],
      "execution_count": 329,
      "outputs": [
        {
          "output_type": "execute_result",
          "data": {
            "text/plain": [
              "(3378, 784)"
            ]
          },
          "metadata": {
            "tags": []
          },
          "execution_count": 329
        }
      ]
    },
    {
      "cell_type": "markdown",
      "metadata": {
        "id": "NV3EjOTuvFgS",
        "colab_type": "text"
      },
      "source": [
        "とりあえず表示させてみる"
      ]
    },
    {
      "cell_type": "code",
      "metadata": {
        "id": "DMfwEkrt5wFd",
        "colab_type": "code",
        "colab": {}
      },
      "source": [
        "l = label_one_data"
      ],
      "execution_count": 0,
      "outputs": []
    },
    {
      "cell_type": "code",
      "metadata": {
        "id": "SRuggwxcpfOc",
        "colab_type": "code",
        "colab": {}
      },
      "source": [
        "size=l.shape[0]\n",
        "new_l = l.reshape([size, 28, 28])"
      ],
      "execution_count": 0,
      "outputs": []
    },
    {
      "cell_type": "code",
      "metadata": {
        "id": "DDLDc6T2qC8E",
        "colab_type": "code",
        "outputId": "6ccaf248-af3d-4342-d218-ad35ddb14d53",
        "colab": {
          "base_uri": "https://localhost:8080/",
          "height": 34
        }
      },
      "source": [
        "new_l.shape"
      ],
      "execution_count": 332,
      "outputs": [
        {
          "output_type": "execute_result",
          "data": {
            "text/plain": [
              "(3378, 28, 28)"
            ]
          },
          "metadata": {
            "tags": []
          },
          "execution_count": 332
        }
      ]
    },
    {
      "cell_type": "code",
      "metadata": {
        "id": "rTDECfVtqHOb",
        "colab_type": "code",
        "outputId": "82689556-74ce-4150-b13b-07f13d537114",
        "colab": {
          "base_uri": "https://localhost:8080/",
          "height": 34
        }
      },
      "source": [
        "new_l[0][0][0].dtype"
      ],
      "execution_count": 333,
      "outputs": [
        {
          "output_type": "execute_result",
          "data": {
            "text/plain": [
              "dtype('float64')"
            ]
          },
          "metadata": {
            "tags": []
          },
          "execution_count": 333
        }
      ]
    },
    {
      "cell_type": "code",
      "metadata": {
        "id": "f6DE5HMYqG8R",
        "colab_type": "code",
        "outputId": "d5ab6882-5164-4697-f57e-75d2d30d1d00",
        "colab": {
          "base_uri": "https://localhost:8080/",
          "height": 52
        }
      },
      "source": [
        "new_l[0][0]"
      ],
      "execution_count": 334,
      "outputs": [
        {
          "output_type": "execute_result",
          "data": {
            "text/plain": [
              "array([0., 0., 0., 0., 0., 0., 0., 0., 0., 0., 0., 0., 0., 0., 0., 0., 0.,\n",
              "       0., 0., 0., 0., 0., 0., 0., 0., 0., 0., 0.])"
            ]
          },
          "metadata": {
            "tags": []
          },
          "execution_count": 334
        }
      ]
    },
    {
      "cell_type": "code",
      "metadata": {
        "id": "WyOKQFvBmfBg",
        "colab_type": "code",
        "outputId": "1c85e5dd-cf15-4f75-81c5-e645d53a9549",
        "colab": {
          "base_uri": "https://localhost:8080/",
          "height": 269
        }
      },
      "source": [
        "fig, ax = plt.subplots()\n",
        "ax.imshow(new_l[-1], cmap=\"gray\")\n",
        "plt.show()"
      ],
      "execution_count": 335,
      "outputs": [
        {
          "output_type": "display_data",
          "data": {
            "image/png": "[encoded data removed]",
            "text/plain": [
              "<Figure size 432x288 with 1 Axes>"
            ]
          },
          "metadata": {
            "tags": []
          }
        }
      ]
    },
    {
      "cell_type": "markdown",
      "metadata": {
        "id": "A_yPA2Mo6l4j",
        "colab_type": "text"
      },
      "source": [
        "VAEのモデルを定義する"
      ]
    },
    {
      "cell_type": "code",
      "metadata": {
        "id": "RuTGt8bUpFqK",
        "colab_type": "code",
        "colab": {}
      },
      "source": [
        "#define a model of VAE\n",
        "class VAE(nn.Module):\n",
        "  \n",
        "  def __init__(self, dim=500 ,latent_dim=20):\n",
        "    super(VAE, self).__init__()    \n",
        "    self.en_dense1 = nn.Linear(28*28, dim)\n",
        "    self.en_dense2 = nn.Linear(dim, dim)\n",
        "    self.mean   = nn.Linear(dim, latent_dim)\n",
        "    self.var    = nn.Linear(dim, latent_dim)    \n",
        "    self.de_dense1 = nn.Linear(latent_dim, dim)\n",
        "    self.de_dense2 = nn.Linear(dim, dim)\n",
        "    self.de_dense3 = nn.Linear(dim, 28*28)\n",
        "    \n",
        "  def _encoder(self, x):\n",
        "    x    = F.relu(self.en_dense1(x))\n",
        "    x    = F.relu(self.en_dense2(x))\n",
        "    mean = self.mean(x)\n",
        "    var  = F.softplus(self.var(x)) #variance should be always non-negative\n",
        "    return mean, var  \n",
        "  \n",
        "  def _hidden_sampling(self, mean, var): #無相関と仮定\n",
        "    eps = torch.randn(mean.shape).to(device)\n",
        "    return mean + torch.sqrt(var)*eps\n",
        "  \n",
        "  def _decoder(self, z):\n",
        "    x = F.relu(self.de_dense1(z))\n",
        "    x = F.relu(self.de_dense2(x))    \n",
        "    x = F.relu(self.de_dense3(x))    \n",
        "    x = F.sigmoid(x)  #limit the output in [0,1]\n",
        "    return x    \n",
        "  \n",
        "  \n",
        "  def forward(self, x): \n",
        "    mean, var = self._encoder(x)\n",
        "    z = self._hidden_sampling(mean, var)\n",
        "    y = self._decoder(z)\n",
        "    return y, z\n",
        "  \n",
        "  \n",
        "  def loss(self, x): \n",
        "    mean, var = self._encoder(x)\n",
        "    kl = -0.5 *  torch.mean(torch.sum(1+torch.log(var) - mean**2 - var)) #無相関ver\n",
        "    z  = self._hidden_sampling(mean, var)\n",
        "    y  = self._decoder(z)\n",
        "    reconstruct = torch.mean(torch.sum(x * torch.log(y) + (1-x) * torch.log(1-y)))     #y is [0,1] so non-negative, so log make sense. \n",
        "    return -(reconstruct - kl) "
      ],
      "execution_count": 0,
      "outputs": []
    },
    {
      "cell_type": "code",
      "metadata": {
        "id": "TEFOqhA85WCU",
        "colab_type": "code",
        "outputId": "f97a170a-74ba-49df-d436-96c13886096d",
        "colab": {
          "base_uri": "https://localhost:8080/",
          "height": 34
        }
      },
      "source": [
        "l.shape"
      ],
      "execution_count": 337,
      "outputs": [
        {
          "output_type": "execute_result",
          "data": {
            "text/plain": [
              "(3378, 784)"
            ]
          },
          "metadata": {
            "tags": []
          },
          "execution_count": 337
        }
      ]
    },
    {
      "cell_type": "code",
      "metadata": {
        "id": "qMmnMLuyUsob",
        "colab_type": "code",
        "colab": {}
      },
      "source": [
        "model = VAE().to(device)\n",
        "optimizer = optim.Adam(model.parameters(), lr=0.001)\n",
        "model.train()\n",
        "\n",
        "for i in range(num_epoch):\n",
        "  losses = []\n",
        "  x = torch.tensor(l, dtype=torch.float, device=device) # instead of new_l\n",
        "  model.zero_grad()\n",
        "  y = model(x)\n",
        "  loss = model.loss(x)\n",
        " # print(loss)\n",
        "  loss.backward()\n",
        "  optimizer.step()\n",
        "  losses.append(loss.cpu().detach().numpy())\n",
        "  print(\"EPOCH: {} loss: {}\".format(i, np.average(losses)))  "
      ],
      "execution_count": 0,
      "outputs": []
    },
    {
      "cell_type": "markdown",
      "metadata": {
        "id": "lXw-q30OJoB3",
        "colab_type": "text"
      },
      "source": [
        "sampling"
      ]
    },
    {
      "cell_type": "code",
      "metadata": {
        "id": "Jjde5CVJuI3d",
        "colab_type": "code",
        "outputId": "990a5d56-d4d7-4ddd-9526-2358f5043cd4",
        "colab": {
          "base_uri": "https://localhost:8080/",
          "height": 1000
        }
      },
      "source": [
        "#sampling\n",
        "x = torch.tensor(l, dtype=torch.float, device=device) # instead of new_l\n",
        "y, z = model(x)\n",
        "y = y.cpu().detach().numpy()\n",
        "\n",
        "size=l.shape[0]\n",
        "new_x = l.reshape([size, 28, 28])\n",
        "new_y = y.reshape([size, 28, 28])\n",
        "\n",
        "for i in range(10):\n",
        "  fig, axes = plt.subplots(1, 2)\n",
        "  axes[0].set_axis_off()\n",
        "  axes[0].imshow(new_x[i], cmap=\"gray\")\n",
        "\n",
        "  axes[1].set_axis_off()\n",
        "  axes[1].imshow(new_y[i], cmap=\"gray\")\n",
        "\n",
        "  plt.show()"
      ],
      "execution_count": 371,
      "outputs": [
        {
          "output_type": "stream",
          "text": [
            "/usr/local/lib/python3.6/dist-packages/torch/nn/functional.py:1350: UserWarning: nn.functional.sigmoid is deprecated. Use torch.sigmoid instead.\n",
            "  warnings.warn(\"nn.functional.sigmoid is deprecated. Use torch.sigmoid instead.\")\n"
          ],
          "name": "stderr"
        },
        {
          "output_type": "display_data",
          "data": {
            "image/png": "[encoded data removed]",
            "text/plain": [
              "<Figure size 432x288 with 2 Axes>"
            ]
          },
          "metadata": {
            "tags": []
          }
        },
        {
          "output_type": "display_data",
          "data": {
            "image/png": "[encoded data removed]",
            "text/plain": [
              "<Figure size 432x288 with 2 Axes>"
            ]
          },
          "metadata": {
            "tags": []
          }
        },
        {
          "output_type": "display_data",
          "data": {
            "image/png": "[encoded data removed]",
            "text/plain": [
              "<Figure size 432x288 with 2 Axes>"
            ]
          },
          "metadata": {
            "tags": []
          }
        },
        {
          "output_type": "display_data",
          "data": {
            "image/png": "[encoded data removed]",
            "text/plain": [
              "<Figure size 432x288 with 2 Axes>"
            ]
          },
          "metadata": {
            "tags": []
          }
        },
        {
          "output_type": "display_data",
          "data": {
            "image/png": "[encoded data removed]",
            "text/plain": [
              "<Figure size 432x288 with 2 Axes>"
            ]
          },
          "metadata": {
            "tags": []
          }
        },
        {
          "output_type": "display_data",
          "data": {
            "image/png": "[encoded data removed]",
            "text/plain": [
              "<Figure size 432x288 with 2 Axes>"
            ]
          },
          "metadata": {
            "tags": []
          }
        },
        {
          "output_type": "display_data",
          "data": {
            "image/png": "[encoded data removed]",
            "text/plain": [
              "<Figure size 432x288 with 2 Axes>"
            ]
          },
          "metadata": {
            "tags": []
          }
        },
        {
          "output_type": "display_data",
          "data": {
            "image/png": "[encoded data removed]",
            "text/plain": [
              "<Figure size 432x288 with 2 Axes>"
            ]
          },
          "metadata": {
            "tags": []
          }
        },
        {
          "output_type": "display_data",
          "data": {
            "image/png": "[encoded data removed]",
            "text/plain": [
              "<Figure size 432x288 with 2 Axes>"
            ]
          },
          "metadata": {
            "tags": []
          }
        },
        {
          "output_type": "display_data",
          "data": {
            "image/png": "[encoded data removed]",
            "text/plain": [
              "<Figure size 432x288 with 2 Axes>"
            ]
          },
          "metadata": {
            "tags": []
          }
        }
      ]
    },
    {
      "cell_type": "code",
      "metadata": {
        "id": "Nj_WoM5fstA5",
        "colab_type": "code",
        "colab": {
          "base_uri": "https://localhost:8080/",
          "height": 1000
        },
        "outputId": "4513285f-0709-42aa-fcf0-9cea70a8e4df"
      },
      "source": [
        "#experiments\n",
        "four = torch.tensor(label_four_data, dtype=torch.float, device=device) # instead of new_l\n",
        "y, z = model(four)\n",
        "y = y.cpu().detach().numpy()\n",
        "\n",
        "four_size = label_four_data.shape[0]\n",
        "inputs  = label_four_data.reshape([four_size, 28, 28])\n",
        "outputs = y.reshape([four_size, 28, 28])\n",
        "\n",
        "for i in range(10):\n",
        "  fig, axes = plt.subplots(1, 2)\n",
        "  axes[0].set_axis_off()\n",
        "  axes[0].imshow(inputs[i], cmap=\"gray\")\n",
        "\n",
        "  axes[1].set_axis_off()\n",
        "  axes[1].imshow(outputs[i], cmap=\"gray\")\n",
        "\n",
        "  plt.show()"
      ],
      "execution_count": 369,
      "outputs": [
        {
          "output_type": "stream",
          "text": [
            "/usr/local/lib/python3.6/dist-packages/torch/nn/functional.py:1350: UserWarning: nn.functional.sigmoid is deprecated. Use torch.sigmoid instead.\n",
            "  warnings.warn(\"nn.functional.sigmoid is deprecated. Use torch.sigmoid instead.\")\n"
          ],
          "name": "stderr"
        },
        {
          "output_type": "display_data",
          "data": {
            "image/png": "[encoded data removed]",
            "text/plain": [
              "<Figure size 432x288 with 2 Axes>"
            ]
          },
          "metadata": {
            "tags": []
          }
        },
        {
          "output_type": "display_data",
          "data": {
            "image/png": "[encoded data removed]",
            "text/plain": [
              "<Figure size 432x288 with 2 Axes>"
            ]
          },
          "metadata": {
            "tags": []
          }
        },
        {
          "output_type": "display_data",
          "data": {
            "image/png": "[encoded data removed]",
            "text/plain": [
              "<Figure size 432x288 with 2 Axes>"
            ]
          },
          "metadata": {
            "tags": []
          }
        },
        {
          "output_type": "display_data",
          "data": {
            "image/png": "[encoded data removed]",
            "text/plain": [
              "<Figure size 432x288 with 2 Axes>"
            ]
          },
          "metadata": {
            "tags": []
          }
        },
        {
          "output_type": "display_data",
          "data": {
            "image/png": "[encoded data removed]",
            "text/plain": [
              "<Figure size 432x288 with 2 Axes>"
            ]
          },
          "metadata": {
            "tags": []
          }
        },
        {
          "output_type": "display_data",
          "data": {
            "image/png": "[encoded data removed]",
            "text/plain": [
              "<Figure size 432x288 with 2 Axes>"
            ]
          },
          "metadata": {
            "tags": []
          }
        },
        {
          "output_type": "display_data",
          "data": {
            "image/png": "[encoded data removed]",
            "text/plain": [
              "<Figure size 432x288 with 2 Axes>"
            ]
          },
          "metadata": {
            "tags": []
          }
        },
        {
          "output_type": "display_data",
          "data": {
            "image/png": "[encoded data removed]",
            "text/plain": [
              "<Figure size 432x288 with 2 Axes>"
            ]
          },
          "metadata": {
            "tags": []
          }
        },
        {
          "output_type": "display_data",
          "data": {
            "image/png": "[encoded data removed]",
            "text/plain": [
              "<Figure size 432x288 with 2 Axes>"
            ]
          },
          "metadata": {
            "tags": []
          }
        },
        {
          "output_type": "display_data",
          "data": {
            "image/png": "[encoded data removed]",
            "text/plain": [
              "<Figure size 432x288 with 2 Axes>"
            ]
          },
          "metadata": {
            "tags": []
          }
        }
      ]
    },
    {
      "cell_type": "code",
      "metadata": {
        "id": "DGctygHwqM0D",
        "colab_type": "code",
        "colab": {
          "base_uri": "https://localhost:8080/",
          "height": 1000
        },
        "outputId": "a7e1c19c-01f1-46da-9c9f-9794e2d28c4e"
      },
      "source": [
        "#experiments\n",
        "seven = torch.tensor(label_seven_data, dtype=torch.float, device=device) # instead of new_l\n",
        "y, z = model(seven)\n",
        "y = y.cpu().detach().numpy()\n",
        "\n",
        "seven_size = label_seven_data.shape[0]\n",
        "inputs  = label_seven_data.reshape([seven_size, 28, 28])\n",
        "outputs = y.reshape([seven_size, 28, 28])\n",
        "\n",
        "for i in range(10):\n",
        "  fig, axes = plt.subplots(1, 2)\n",
        "  axes[0].set_axis_off()\n",
        "  axes[0].imshow(inputs[i], cmap=\"gray\")\n",
        "\n",
        "  axes[1].set_axis_off()\n",
        "  axes[1].imshow(outputs[i], cmap=\"gray\")\n",
        "\n",
        "  plt.show()"
      ],
      "execution_count": 370,
      "outputs": [
        {
          "output_type": "stream",
          "text": [
            "/usr/local/lib/python3.6/dist-packages/torch/nn/functional.py:1350: UserWarning: nn.functional.sigmoid is deprecated. Use torch.sigmoid instead.\n",
            "  warnings.warn(\"nn.functional.sigmoid is deprecated. Use torch.sigmoid instead.\")\n"
          ],
          "name": "stderr"
        },
        {
          "output_type": "display_data",
          "data": {
            "image/png": "[encoded data removed]",
            "text/plain": [
              "<Figure size 432x288 with 2 Axes>"
            ]
          },
          "metadata": {
            "tags": []
          }
        },
        {
          "output_type": "display_data",
          "data": {
            "image/png": "[encoded data removed]",
            "text/plain": [
              "<Figure size 432x288 with 2 Axes>"
            ]
          },
          "metadata": {
            "tags": []
          }
        },
        {
          "output_type": "display_data",
          "data": {
            "image/png": "[encoded data removed]",
            "text/plain": [
              "<Figure size 432x288 with 2 Axes>"
            ]
          },
          "metadata": {
            "tags": []
          }
        },
        {
          "output_type": "display_data",
          "data": {
            "image/png": "[encoded data removed]",
            "text/plain": [
              "<Figure size 432x288 with 2 Axes>"
            ]
          },
          "metadata": {
            "tags": []
          }
        },
        {
          "output_type": "display_data",
          "data": {
            "image/png": "[encoded data removed]",
            "text/plain": [
              "<Figure size 432x288 with 2 Axes>"
            ]
          },
          "metadata": {
            "tags": []
          }
        },
        {
          "output_type": "display_data",
          "data": {
            "image/png": "[encoded data removed]",
            "text/plain": [
              "<Figure size 432x288 with 2 Axes>"
            ]
          },
          "metadata": {
            "tags": []
          }
        },
        {
          "output_type": "display_data",
          "data": {
            "image/png": "[encoded data removed]",
            "text/plain": [
              "<Figure size 432x288 with 2 Axes>"
            ]
          },
          "metadata": {
            "tags": []
          }
        },
        {
          "output_type": "display_data",
          "data": {
            "image/png": "[encoded data removed]",
            "text/plain": [
              "<Figure size 432x288 with 2 Axes>"
            ]
          },
          "metadata": {
            "tags": []
          }
        },
        {
          "output_type": "display_data",
          "data": {
            "image/png": "[encoded data removed]",
            "text/plain": [
              "<Figure size 432x288 with 2 Axes>"
            ]
          },
          "metadata": {
            "tags": []
          }
        },
        {
          "output_type": "display_data",
          "data": {
            "image/png": "[encoded data removed]",
            "text/plain": [
              "<Figure size 432x288 with 2 Axes>"
            ]
          },
          "metadata": {
            "tags": []
          }
        }
      ]
    },
    {
      "cell_type": "markdown",
      "metadata": {
        "id": "RbP5dNhnvrXf",
        "colab_type": "text"
      },
      "source": [
        "結論：\n",
        "\n",
        "「１」だけを用いてVAEで学習。\n",
        "\n",
        "この学習器に対し、「４」や「７」を入力しても、「１」のような形が生成された。\n",
        "\n",
        "すなわち、未知の形状の入力に対しては、それを再現するように出力が生成されるというよりかは、\n",
        "\n",
        "今まで学習した範囲内で生成尤度の高そうなものが生成されたということ。"
      ]
    }
  ]
}